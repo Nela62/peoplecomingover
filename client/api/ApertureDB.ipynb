{
  "nbformat": 4,
  "nbformat_minor": 0,
  "metadata": {
    "colab": {
      "provenance": []
    },
    "kernelspec": {
      "name": "python3",
      "display_name": "Python 3"
    },
    "language_info": {
      "name": "python"
    }
  },
  "cells": [
    {
      "cell_type": "code",
      "execution_count": 2,
      "metadata": {
        "id": "pCzPoBbWWifR"
      },
      "outputs": [],
      "source": [
        "%pip install --quiet --upgrade aperturedb[complete]"
      ]
    },
    {
      "cell_type": "code",
      "source": [
        "! adb config create --active --from-json"
      ],
      "metadata": {
        "colab": {
          "base_uri": "https://localhost:8080/"
        },
        "id": "JjJTpo54WkNC",
        "outputId": "b03708a5-1f06-4144-f6b1-8c22e6d0b323"
      },
      "execution_count": 3,
      "outputs": [
        {
          "output_type": "stream",
          "name": "stdout",
          "text": [
            "Enter JSON string: \n",
            "\u001b[2;36m[22:10:46]\u001b[0m\u001b[2;36m \u001b[0m\u001b[1;33mConfiguration named \u001b[0m\u001b[32m'chat-n-shop'\u001b[0m\u001b[1;33m already exists. Use --overwrite to    \u001b[0m \u001b]8;id=217196;file:///usr/local/lib/python3.11/dist-packages/aperturedb/cli/configure.py\u001b\\\u001b[2mconfigure.py\u001b[0m\u001b]8;;\u001b\\\u001b[2m:\u001b[0m\u001b]8;id=579826;file:///usr/local/lib/python3.11/dist-packages/aperturedb/cli/configure.py#140\u001b\\\u001b[2m140\u001b[0m\u001b]8;;\u001b\\\n",
            "\u001b[2;36m           \u001b[0m\u001b[1;33moverwrite.                                                              \u001b[0m \u001b[2m                \u001b[0m\n"
          ]
        }
      ]
    },
    {
      "cell_type": "code",
      "source": [
        "from aperturedb.Utils import Utils\n",
        "from aperturedb.CommonLibrary import create_connector\n",
        "\n",
        "# Create the connector for ApertureDB\n",
        "client = create_connector()\n",
        "\n",
        "# Use the connector to create a Utils object and print the summary\n",
        "utils = Utils(client)\n",
        "utils.summary()\n",
        "\n"
      ],
      "metadata": {
        "colab": {
          "base_uri": "https://localhost:8080/"
        },
        "id": "FWHNBFasrqGg",
        "outputId": "820f6f7a-39ac-488e-f3e1-83b6ef605043"
      },
      "execution_count": 4,
      "outputs": [
        {
          "output_type": "stream",
          "name": "stdout",
          "text": [
            "================== Summary ==================\n",
            "Database: chat-n-shop-be9pkrk7.farm0000.cloud.aperturedata.io\n",
            "Version: 0.18.8\n",
            "Status:  0\n",
            "Info:    OK\n",
            "------------------ Entities -----------------\n",
            "Total entities types:    0\n",
            "---------------- Connections ----------------\n",
            "Total connections types: 0\n",
            "------------------ Totals -------------------\n",
            "Total nodes: 0\n",
            "Total edges: 0\n",
            "=============================================\n"
          ]
        }
      ]
    },
    {
      "cell_type": "code",
      "source": [
        "%pip install git+https://github.com/openai/CLIP.git"
      ],
      "metadata": {
        "colab": {
          "base_uri": "https://localhost:8080/"
        },
        "id": "7vvMhkKNyClR",
        "outputId": "4af1846c-57d2-400b-aefd-75be01003aa9"
      },
      "execution_count": 5,
      "outputs": [
        {
          "output_type": "stream",
          "name": "stdout",
          "text": [
            "Collecting git+https://github.com/openai/CLIP.git\n",
            "  Cloning https://github.com/openai/CLIP.git to /tmp/pip-req-build-namk39a8\n",
            "  Running command git clone --filter=blob:none --quiet https://github.com/openai/CLIP.git /tmp/pip-req-build-namk39a8\n",
            "  Resolved https://github.com/openai/CLIP.git to commit dcba3cb2e2827b402d2701e7e1c7d9fed8a20ef1\n",
            "  Preparing metadata (setup.py) ... \u001b[?25l\u001b[?25hdone\n",
            "Requirement already satisfied: ftfy in /usr/local/lib/python3.11/dist-packages (from clip==1.0) (6.3.1)\n",
            "Requirement already satisfied: packaging in /usr/local/lib/python3.11/dist-packages (from clip==1.0) (24.2)\n",
            "Requirement already satisfied: regex in /usr/local/lib/python3.11/dist-packages (from clip==1.0) (2024.11.6)\n",
            "Requirement already satisfied: tqdm in /usr/local/lib/python3.11/dist-packages (from clip==1.0) (4.67.1)\n",
            "Requirement already satisfied: torch in /usr/local/lib/python3.11/dist-packages (from clip==1.0) (2.2.2)\n",
            "Requirement already satisfied: torchvision in /usr/local/lib/python3.11/dist-packages (from clip==1.0) (0.17.2)\n",
            "Requirement already satisfied: wcwidth in /usr/local/lib/python3.11/dist-packages (from ftfy->clip==1.0) (0.2.13)\n",
            "Requirement already satisfied: filelock in /usr/local/lib/python3.11/dist-packages (from torch->clip==1.0) (3.17.0)\n",
            "Requirement already satisfied: typing-extensions>=4.8.0 in /usr/local/lib/python3.11/dist-packages (from torch->clip==1.0) (4.12.2)\n",
            "Requirement already satisfied: sympy in /usr/local/lib/python3.11/dist-packages (from torch->clip==1.0) (1.13.1)\n",
            "Requirement already satisfied: networkx in /usr/local/lib/python3.11/dist-packages (from torch->clip==1.0) (3.4.2)\n",
            "Requirement already satisfied: jinja2 in /usr/local/lib/python3.11/dist-packages (from torch->clip==1.0) (3.1.5)\n",
            "Requirement already satisfied: fsspec in /usr/local/lib/python3.11/dist-packages (from torch->clip==1.0) (2024.10.0)\n",
            "Requirement already satisfied: nvidia-cuda-nvrtc-cu12==12.1.105 in /usr/local/lib/python3.11/dist-packages (from torch->clip==1.0) (12.1.105)\n",
            "Requirement already satisfied: nvidia-cuda-runtime-cu12==12.1.105 in /usr/local/lib/python3.11/dist-packages (from torch->clip==1.0) (12.1.105)\n",
            "Requirement already satisfied: nvidia-cuda-cupti-cu12==12.1.105 in /usr/local/lib/python3.11/dist-packages (from torch->clip==1.0) (12.1.105)\n",
            "Requirement already satisfied: nvidia-cudnn-cu12==8.9.2.26 in /usr/local/lib/python3.11/dist-packages (from torch->clip==1.0) (8.9.2.26)\n",
            "Requirement already satisfied: nvidia-cublas-cu12==12.1.3.1 in /usr/local/lib/python3.11/dist-packages (from torch->clip==1.0) (12.1.3.1)\n",
            "Requirement already satisfied: nvidia-cufft-cu12==11.0.2.54 in /usr/local/lib/python3.11/dist-packages (from torch->clip==1.0) (11.0.2.54)\n",
            "Requirement already satisfied: nvidia-curand-cu12==10.3.2.106 in /usr/local/lib/python3.11/dist-packages (from torch->clip==1.0) (10.3.2.106)\n",
            "Requirement already satisfied: nvidia-cusolver-cu12==11.4.5.107 in /usr/local/lib/python3.11/dist-packages (from torch->clip==1.0) (11.4.5.107)\n",
            "Requirement already satisfied: nvidia-cusparse-cu12==12.1.0.106 in /usr/local/lib/python3.11/dist-packages (from torch->clip==1.0) (12.1.0.106)\n",
            "Requirement already satisfied: nvidia-nccl-cu12==2.19.3 in /usr/local/lib/python3.11/dist-packages (from torch->clip==1.0) (2.19.3)\n",
            "Requirement already satisfied: nvidia-nvtx-cu12==12.1.105 in /usr/local/lib/python3.11/dist-packages (from torch->clip==1.0) (12.1.105)\n",
            "Requirement already satisfied: triton==2.2.0 in /usr/local/lib/python3.11/dist-packages (from torch->clip==1.0) (2.2.0)\n",
            "Requirement already satisfied: nvidia-nvjitlink-cu12 in /usr/local/lib/python3.11/dist-packages (from nvidia-cusolver-cu12==11.4.5.107->torch->clip==1.0) (12.4.127)\n",
            "Requirement already satisfied: numpy in /usr/local/lib/python3.11/dist-packages (from torchvision->clip==1.0) (1.26.4)\n",
            "Requirement already satisfied: pillow!=8.3.*,>=5.3.0 in /usr/local/lib/python3.11/dist-packages (from torchvision->clip==1.0) (10.2.0)\n",
            "Requirement already satisfied: MarkupSafe>=2.0 in /usr/local/lib/python3.11/dist-packages (from jinja2->torch->clip==1.0) (3.0.2)\n",
            "Requirement already satisfied: mpmath<1.4,>=1.1.0 in /usr/local/lib/python3.11/dist-packages (from sympy->torch->clip==1.0) (1.3.0)\n"
          ]
        }
      ]
    },
    {
      "cell_type": "code",
      "source": [
        "%pip install aperturedb"
      ],
      "metadata": {
        "colab": {
          "base_uri": "https://localhost:8080/",
          "height": 1000
        },
        "id": "Lw3xynHOzIFi",
        "outputId": "f0ddda1e-d5c3-4f12-e2ae-191b69bbdf8c"
      },
      "execution_count": 14,
      "outputs": [
        {
          "output_type": "stream",
          "name": "stdout",
          "text": [
            "Requirement already satisfied: aperturedb[complete] in /usr/local/lib/python3.11/dist-packages (0.4.40)\n",
            "Requirement already satisfied: protobuf<6.0.0,>=3.20.3 in /usr/local/lib/python3.11/dist-packages (from aperturedb[complete]) (4.25.6)\n",
            "Requirement already satisfied: scikit-image in /usr/local/lib/python3.11/dist-packages (from aperturedb[complete]) (0.25.1)\n",
            "Requirement already satisfied: image in /usr/local/lib/python3.11/dist-packages (from aperturedb[complete]) (1.5.33)\n",
            "Requirement already satisfied: requests in /usr/local/lib/python3.11/dist-packages (from aperturedb[complete]) (2.32.3)\n",
            "Requirement already satisfied: boto3 in /usr/local/lib/python3.11/dist-packages (from aperturedb[complete]) (1.36.21)\n",
            "Requirement already satisfied: numpy in /usr/local/lib/python3.11/dist-packages (from aperturedb[complete]) (1.26.4)\n",
            "Requirement already satisfied: distributed in /usr/local/lib/python3.11/dist-packages (from aperturedb[complete]) (2024.10.0)\n",
            "Requirement already satisfied: matplotlib in /usr/local/lib/python3.11/dist-packages (from aperturedb[complete]) (3.10.0)\n",
            "Requirement already satisfied: pandas in /usr/local/lib/python3.11/dist-packages (from aperturedb[complete]) (2.2.2)\n",
            "Requirement already satisfied: kaggle!=1.6.15 in /usr/local/lib/python3.11/dist-packages (from aperturedb[complete]) (1.6.17)\n",
            "Requirement already satisfied: google-cloud-storage in /usr/local/lib/python3.11/dist-packages (from aperturedb[complete]) (2.19.0)\n",
            "Requirement already satisfied: ipython in /usr/local/lib/python3.11/dist-packages (from aperturedb[complete]) (7.34.0)\n",
            "Requirement already satisfied: dask[complete] in /usr/local/lib/python3.11/dist-packages (from aperturedb[complete]) (2024.10.0)\n",
            "Requirement already satisfied: ipywidgets in /usr/local/lib/python3.11/dist-packages (from aperturedb[complete]) (8.0.4)\n",
            "Requirement already satisfied: pydantic>=2.6.0 in /usr/local/lib/python3.11/dist-packages (from aperturedb[complete]) (2.10.6)\n",
            "Requirement already satisfied: devtools in /usr/local/lib/python3.11/dist-packages (from aperturedb[complete]) (0.12.2)\n",
            "Requirement already satisfied: typer in /usr/local/lib/python3.11/dist-packages (from aperturedb[complete]) (0.15.1)\n",
            "Requirement already satisfied: opencv-python-headless in /usr/local/lib/python3.11/dist-packages (from aperturedb[complete]) (4.11.0.86)\n",
            "Requirement already satisfied: grpcio-status==1.48.2 in /usr/local/lib/python3.11/dist-packages (from aperturedb[complete]) (1.48.2)\n",
            "Requirement already satisfied: keepalive-socket==0.0.1 in /usr/local/lib/python3.11/dist-packages (from aperturedb[complete]) (0.0.1)\n",
            "Requirement already satisfied: graphviz==0.20.2 in /usr/local/lib/python3.11/dist-packages (from aperturedb[complete]) (0.20.2)\n",
            "Requirement already satisfied: python-dotenv in /usr/local/lib/python3.11/dist-packages (from aperturedb[complete]) (1.0.1)\n",
            "Requirement already satisfied: torch in /usr/local/lib/python3.11/dist-packages (from aperturedb[complete]) (2.5.1+cu124)\n",
            "Requirement already satisfied: torchvision in /usr/local/lib/python3.11/dist-packages (from aperturedb[complete]) (0.20.1+cu124)\n",
            "Requirement already satisfied: tensorflow in /usr/local/lib/python3.11/dist-packages (from aperturedb[complete]) (2.18.0)\n",
            "Collecting facenet-pytorch (from aperturedb[complete])\n",
            "  Downloading facenet_pytorch-2.6.0-py3-none-any.whl.metadata (12 kB)\n",
            "Requirement already satisfied: grpcio>=1.48.2 in /usr/local/lib/python3.11/dist-packages (from grpcio-status==1.48.2->aperturedb[complete]) (1.70.0)\n",
            "Requirement already satisfied: googleapis-common-protos>=1.5.5 in /usr/local/lib/python3.11/dist-packages (from grpcio-status==1.48.2->aperturedb[complete]) (1.66.0)\n",
            "Requirement already satisfied: ipykernel>=4.5.1 in /usr/local/lib/python3.11/dist-packages (from ipywidgets->aperturedb[complete]) (5.5.6)\n",
            "Requirement already satisfied: traitlets>=4.3.1 in /usr/local/lib/python3.11/dist-packages (from ipywidgets->aperturedb[complete]) (5.7.1)\n",
            "Requirement already satisfied: widgetsnbextension~=4.0 in /usr/local/lib/python3.11/dist-packages (from ipywidgets->aperturedb[complete]) (4.0.13)\n",
            "Requirement already satisfied: jupyterlab-widgets~=3.0 in /usr/local/lib/python3.11/dist-packages (from ipywidgets->aperturedb[complete]) (3.0.13)\n",
            "Requirement already satisfied: setuptools>=18.5 in /usr/local/lib/python3.11/dist-packages (from ipython->aperturedb[complete]) (75.1.0)\n",
            "Requirement already satisfied: jedi>=0.16 in /usr/local/lib/python3.11/dist-packages (from ipython->aperturedb[complete]) (0.19.2)\n",
            "Requirement already satisfied: decorator in /usr/local/lib/python3.11/dist-packages (from ipython->aperturedb[complete]) (4.4.2)\n",
            "Requirement already satisfied: pickleshare in /usr/local/lib/python3.11/dist-packages (from ipython->aperturedb[complete]) (0.7.5)\n",
            "Requirement already satisfied: prompt-toolkit!=3.0.0,!=3.0.1,<3.1.0,>=2.0.0 in /usr/local/lib/python3.11/dist-packages (from ipython->aperturedb[complete]) (3.0.50)\n",
            "Requirement already satisfied: pygments in /usr/local/lib/python3.11/dist-packages (from ipython->aperturedb[complete]) (2.18.0)\n",
            "Requirement already satisfied: backcall in /usr/local/lib/python3.11/dist-packages (from ipython->aperturedb[complete]) (0.2.0)\n",
            "Requirement already satisfied: matplotlib-inline in /usr/local/lib/python3.11/dist-packages (from ipython->aperturedb[complete]) (0.1.7)\n",
            "Requirement already satisfied: pexpect>4.3 in /usr/local/lib/python3.11/dist-packages (from ipython->aperturedb[complete]) (4.9.0)\n",
            "Requirement already satisfied: six>=1.10 in /usr/local/lib/python3.11/dist-packages (from kaggle!=1.6.15->aperturedb[complete]) (1.17.0)\n",
            "Requirement already satisfied: certifi>=2023.7.22 in /usr/local/lib/python3.11/dist-packages (from kaggle!=1.6.15->aperturedb[complete]) (2025.1.31)\n",
            "Requirement already satisfied: python-dateutil in /usr/local/lib/python3.11/dist-packages (from kaggle!=1.6.15->aperturedb[complete]) (2.8.2)\n",
            "Requirement already satisfied: tqdm in /usr/local/lib/python3.11/dist-packages (from kaggle!=1.6.15->aperturedb[complete]) (4.67.1)\n",
            "Requirement already satisfied: python-slugify in /usr/local/lib/python3.11/dist-packages (from kaggle!=1.6.15->aperturedb[complete]) (8.0.4)\n",
            "Requirement already satisfied: urllib3 in /usr/local/lib/python3.11/dist-packages (from kaggle!=1.6.15->aperturedb[complete]) (2.3.0)\n",
            "Requirement already satisfied: bleach in /usr/local/lib/python3.11/dist-packages (from kaggle!=1.6.15->aperturedb[complete]) (6.2.0)\n",
            "Requirement already satisfied: annotated-types>=0.6.0 in /usr/local/lib/python3.11/dist-packages (from pydantic>=2.6.0->aperturedb[complete]) (0.7.0)\n",
            "Requirement already satisfied: pydantic-core==2.27.2 in /usr/local/lib/python3.11/dist-packages (from pydantic>=2.6.0->aperturedb[complete]) (2.27.2)\n",
            "Requirement already satisfied: typing-extensions>=4.12.2 in /usr/local/lib/python3.11/dist-packages (from pydantic>=2.6.0->aperturedb[complete]) (4.12.2)\n",
            "Requirement already satisfied: botocore<1.37.0,>=1.36.21 in /usr/local/lib/python3.11/dist-packages (from boto3->aperturedb[complete]) (1.36.21)\n",
            "Requirement already satisfied: jmespath<2.0.0,>=0.7.1 in /usr/local/lib/python3.11/dist-packages (from boto3->aperturedb[complete]) (1.0.1)\n",
            "Requirement already satisfied: s3transfer<0.12.0,>=0.11.0 in /usr/local/lib/python3.11/dist-packages (from boto3->aperturedb[complete]) (0.11.2)\n",
            "Requirement already satisfied: click>=8.1 in /usr/local/lib/python3.11/dist-packages (from dask[complete]->aperturedb[complete]) (8.1.8)\n",
            "Requirement already satisfied: cloudpickle>=3.0.0 in /usr/local/lib/python3.11/dist-packages (from dask[complete]->aperturedb[complete]) (3.1.1)\n",
            "Requirement already satisfied: fsspec>=2021.09.0 in /usr/local/lib/python3.11/dist-packages (from dask[complete]->aperturedb[complete]) (2024.10.0)\n",
            "Requirement already satisfied: packaging>=20.0 in /usr/local/lib/python3.11/dist-packages (from dask[complete]->aperturedb[complete]) (24.2)\n",
            "Requirement already satisfied: partd>=1.4.0 in /usr/local/lib/python3.11/dist-packages (from dask[complete]->aperturedb[complete]) (1.4.2)\n",
            "Requirement already satisfied: pyyaml>=5.3.1 in /usr/local/lib/python3.11/dist-packages (from dask[complete]->aperturedb[complete]) (6.0.2)\n",
            "Requirement already satisfied: toolz>=0.10.0 in /usr/local/lib/python3.11/dist-packages (from dask[complete]->aperturedb[complete]) (0.12.1)\n",
            "Requirement already satisfied: importlib-metadata>=4.13.0 in /usr/local/lib/python3.11/dist-packages (from dask[complete]->aperturedb[complete]) (8.6.1)\n",
            "Requirement already satisfied: pyarrow>=14.0.1 in /usr/local/lib/python3.11/dist-packages (from dask[complete]->aperturedb[complete]) (17.0.0)\n",
            "Requirement already satisfied: lz4>=4.3.2 in /usr/local/lib/python3.11/dist-packages (from dask[complete]->aperturedb[complete]) (4.4.3)\n",
            "Requirement already satisfied: asttokens<3.0.0,>=2.0.0 in /usr/local/lib/python3.11/dist-packages (from devtools->aperturedb[complete]) (2.4.1)\n",
            "Requirement already satisfied: executing>=1.1.1 in /usr/local/lib/python3.11/dist-packages (from devtools->aperturedb[complete]) (2.2.0)\n",
            "Requirement already satisfied: jinja2>=2.10.3 in /usr/local/lib/python3.11/dist-packages (from distributed->aperturedb[complete]) (3.1.5)\n",
            "Requirement already satisfied: locket>=1.0.0 in /usr/local/lib/python3.11/dist-packages (from distributed->aperturedb[complete]) (1.0.0)\n",
            "Requirement already satisfied: msgpack>=1.0.2 in /usr/local/lib/python3.11/dist-packages (from distributed->aperturedb[complete]) (1.1.0)\n",
            "Requirement already satisfied: psutil>=5.8.0 in /usr/local/lib/python3.11/dist-packages (from distributed->aperturedb[complete]) (5.9.5)\n",
            "Requirement already satisfied: sortedcontainers>=2.0.5 in /usr/local/lib/python3.11/dist-packages (from distributed->aperturedb[complete]) (2.4.0)\n",
            "Requirement already satisfied: tblib>=1.6.0 in /usr/local/lib/python3.11/dist-packages (from distributed->aperturedb[complete]) (3.0.0)\n",
            "Requirement already satisfied: tornado>=6.2.0 in /usr/local/lib/python3.11/dist-packages (from distributed->aperturedb[complete]) (6.4.2)\n",
            "Requirement already satisfied: zict>=3.0.0 in /usr/local/lib/python3.11/dist-packages (from distributed->aperturedb[complete]) (3.0.0)\n",
            "Collecting Pillow<10.3.0,>=10.2.0 (from facenet-pytorch->aperturedb[complete])\n",
            "  Downloading pillow-10.2.0-cp311-cp311-manylinux_2_28_x86_64.whl.metadata (9.7 kB)\n",
            "Collecting torch (from aperturedb[complete])\n",
            "  Downloading torch-2.2.2-cp311-cp311-manylinux1_x86_64.whl.metadata (25 kB)\n",
            "Collecting torchvision (from aperturedb[complete])\n",
            "  Downloading torchvision-0.17.2-cp311-cp311-manylinux1_x86_64.whl.metadata (6.6 kB)\n",
            "Requirement already satisfied: charset-normalizer<4,>=2 in /usr/local/lib/python3.11/dist-packages (from requests->aperturedb[complete]) (3.4.1)\n",
            "Requirement already satisfied: idna<4,>=2.5 in /usr/local/lib/python3.11/dist-packages (from requests->aperturedb[complete]) (3.10)\n",
            "Requirement already satisfied: filelock in /usr/local/lib/python3.11/dist-packages (from torch->aperturedb[complete]) (3.17.0)\n",
            "Requirement already satisfied: sympy in /usr/local/lib/python3.11/dist-packages (from torch->aperturedb[complete]) (1.13.1)\n",
            "Requirement already satisfied: networkx in /usr/local/lib/python3.11/dist-packages (from torch->aperturedb[complete]) (3.4.2)\n",
            "Collecting nvidia-cuda-nvrtc-cu12==12.1.105 (from torch->aperturedb[complete])\n",
            "  Downloading nvidia_cuda_nvrtc_cu12-12.1.105-py3-none-manylinux1_x86_64.whl.metadata (1.5 kB)\n",
            "Collecting nvidia-cuda-runtime-cu12==12.1.105 (from torch->aperturedb[complete])\n",
            "  Downloading nvidia_cuda_runtime_cu12-12.1.105-py3-none-manylinux1_x86_64.whl.metadata (1.5 kB)\n",
            "Collecting nvidia-cuda-cupti-cu12==12.1.105 (from torch->aperturedb[complete])\n",
            "  Downloading nvidia_cuda_cupti_cu12-12.1.105-py3-none-manylinux1_x86_64.whl.metadata (1.6 kB)\n",
            "Collecting nvidia-cudnn-cu12==8.9.2.26 (from torch->aperturedb[complete])\n",
            "  Downloading nvidia_cudnn_cu12-8.9.2.26-py3-none-manylinux1_x86_64.whl.metadata (1.6 kB)\n",
            "Collecting nvidia-cublas-cu12==12.1.3.1 (from torch->aperturedb[complete])\n",
            "  Downloading nvidia_cublas_cu12-12.1.3.1-py3-none-manylinux1_x86_64.whl.metadata (1.5 kB)\n",
            "Collecting nvidia-cufft-cu12==11.0.2.54 (from torch->aperturedb[complete])\n",
            "  Downloading nvidia_cufft_cu12-11.0.2.54-py3-none-manylinux1_x86_64.whl.metadata (1.5 kB)\n",
            "Collecting nvidia-curand-cu12==10.3.2.106 (from torch->aperturedb[complete])\n",
            "  Downloading nvidia_curand_cu12-10.3.2.106-py3-none-manylinux1_x86_64.whl.metadata (1.5 kB)\n",
            "Collecting nvidia-cusolver-cu12==11.4.5.107 (from torch->aperturedb[complete])\n",
            "  Downloading nvidia_cusolver_cu12-11.4.5.107-py3-none-manylinux1_x86_64.whl.metadata (1.6 kB)\n",
            "Collecting nvidia-cusparse-cu12==12.1.0.106 (from torch->aperturedb[complete])\n",
            "  Downloading nvidia_cusparse_cu12-12.1.0.106-py3-none-manylinux1_x86_64.whl.metadata (1.6 kB)\n",
            "Collecting nvidia-nccl-cu12==2.19.3 (from torch->aperturedb[complete])\n",
            "  Downloading nvidia_nccl_cu12-2.19.3-py3-none-manylinux1_x86_64.whl.metadata (1.8 kB)\n",
            "Collecting nvidia-nvtx-cu12==12.1.105 (from torch->aperturedb[complete])\n",
            "  Downloading nvidia_nvtx_cu12-12.1.105-py3-none-manylinux1_x86_64.whl.metadata (1.7 kB)\n",
            "Collecting triton==2.2.0 (from torch->aperturedb[complete])\n",
            "  Downloading triton-2.2.0-cp311-cp311-manylinux_2_17_x86_64.manylinux2014_x86_64.whl.metadata (1.4 kB)\n",
            "Requirement already satisfied: nvidia-nvjitlink-cu12 in /usr/local/lib/python3.11/dist-packages (from nvidia-cusolver-cu12==11.4.5.107->torch->aperturedb[complete]) (12.4.127)\n",
            "Requirement already satisfied: google-auth<3.0dev,>=2.26.1 in /usr/local/lib/python3.11/dist-packages (from google-cloud-storage->aperturedb[complete]) (2.27.0)\n",
            "Requirement already satisfied: google-api-core<3.0.0dev,>=2.15.0 in /usr/local/lib/python3.11/dist-packages (from google-cloud-storage->aperturedb[complete]) (2.19.2)\n",
            "Requirement already satisfied: google-cloud-core<3.0dev,>=2.3.0 in /usr/local/lib/python3.11/dist-packages (from google-cloud-storage->aperturedb[complete]) (2.4.1)\n",
            "Requirement already satisfied: google-resumable-media>=2.7.2 in /usr/local/lib/python3.11/dist-packages (from google-cloud-storage->aperturedb[complete]) (2.7.2)\n",
            "Requirement already satisfied: google-crc32c<2.0dev,>=1.0 in /usr/local/lib/python3.11/dist-packages (from google-cloud-storage->aperturedb[complete]) (1.6.0)\n",
            "Requirement already satisfied: django in /usr/local/lib/python3.11/dist-packages (from image->aperturedb[complete]) (5.1.6)\n",
            "Requirement already satisfied: contourpy>=1.0.1 in /usr/local/lib/python3.11/dist-packages (from matplotlib->aperturedb[complete]) (1.3.1)\n",
            "Requirement already satisfied: cycler>=0.10 in /usr/local/lib/python3.11/dist-packages (from matplotlib->aperturedb[complete]) (0.12.1)\n",
            "Requirement already satisfied: fonttools>=4.22.0 in /usr/local/lib/python3.11/dist-packages (from matplotlib->aperturedb[complete]) (4.56.0)\n",
            "Requirement already satisfied: kiwisolver>=1.3.1 in /usr/local/lib/python3.11/dist-packages (from matplotlib->aperturedb[complete]) (1.4.8)\n",
            "Requirement already satisfied: pyparsing>=2.3.1 in /usr/local/lib/python3.11/dist-packages (from matplotlib->aperturedb[complete]) (3.2.1)\n",
            "Requirement already satisfied: pytz>=2020.1 in /usr/local/lib/python3.11/dist-packages (from pandas->aperturedb[complete]) (2025.1)\n",
            "Requirement already satisfied: tzdata>=2022.7 in /usr/local/lib/python3.11/dist-packages (from pandas->aperturedb[complete]) (2025.1)\n",
            "Requirement already satisfied: scipy>=1.11.2 in /usr/local/lib/python3.11/dist-packages (from scikit-image->aperturedb[complete]) (1.13.1)\n",
            "Requirement already satisfied: imageio!=2.35.0,>=2.33 in /usr/local/lib/python3.11/dist-packages (from scikit-image->aperturedb[complete]) (2.37.0)\n",
            "Requirement already satisfied: tifffile>=2022.8.12 in /usr/local/lib/python3.11/dist-packages (from scikit-image->aperturedb[complete]) (2025.1.10)\n",
            "Requirement already satisfied: lazy-loader>=0.4 in /usr/local/lib/python3.11/dist-packages (from scikit-image->aperturedb[complete]) (0.4)\n",
            "Requirement already satisfied: absl-py>=1.0.0 in /usr/local/lib/python3.11/dist-packages (from tensorflow->aperturedb[complete]) (1.4.0)\n",
            "Requirement already satisfied: astunparse>=1.6.0 in /usr/local/lib/python3.11/dist-packages (from tensorflow->aperturedb[complete]) (1.6.3)\n",
            "Requirement already satisfied: flatbuffers>=24.3.25 in /usr/local/lib/python3.11/dist-packages (from tensorflow->aperturedb[complete]) (25.2.10)\n",
            "Requirement already satisfied: gast!=0.5.0,!=0.5.1,!=0.5.2,>=0.2.1 in /usr/local/lib/python3.11/dist-packages (from tensorflow->aperturedb[complete]) (0.6.0)\n",
            "Requirement already satisfied: google-pasta>=0.1.1 in /usr/local/lib/python3.11/dist-packages (from tensorflow->aperturedb[complete]) (0.2.0)\n",
            "Requirement already satisfied: libclang>=13.0.0 in /usr/local/lib/python3.11/dist-packages (from tensorflow->aperturedb[complete]) (18.1.1)\n",
            "Requirement already satisfied: opt-einsum>=2.3.2 in /usr/local/lib/python3.11/dist-packages (from tensorflow->aperturedb[complete]) (3.4.0)\n",
            "Requirement already satisfied: termcolor>=1.1.0 in /usr/local/lib/python3.11/dist-packages (from tensorflow->aperturedb[complete]) (2.5.0)\n",
            "Requirement already satisfied: wrapt>=1.11.0 in /usr/local/lib/python3.11/dist-packages (from tensorflow->aperturedb[complete]) (1.17.2)\n",
            "Requirement already satisfied: tensorboard<2.19,>=2.18 in /usr/local/lib/python3.11/dist-packages (from tensorflow->aperturedb[complete]) (2.18.0)\n",
            "Requirement already satisfied: keras>=3.5.0 in /usr/local/lib/python3.11/dist-packages (from tensorflow->aperturedb[complete]) (3.8.0)\n",
            "Requirement already satisfied: h5py>=3.11.0 in /usr/local/lib/python3.11/dist-packages (from tensorflow->aperturedb[complete]) (3.12.1)\n",
            "Requirement already satisfied: ml-dtypes<0.5.0,>=0.4.0 in /usr/local/lib/python3.11/dist-packages (from tensorflow->aperturedb[complete]) (0.4.1)\n",
            "Requirement already satisfied: tensorflow-io-gcs-filesystem>=0.23.1 in /usr/local/lib/python3.11/dist-packages (from tensorflow->aperturedb[complete]) (0.37.1)\n",
            "Requirement already satisfied: shellingham>=1.3.0 in /usr/local/lib/python3.11/dist-packages (from typer->aperturedb[complete]) (1.5.4)\n",
            "Requirement already satisfied: rich>=10.11.0 in /usr/local/lib/python3.11/dist-packages (from typer->aperturedb[complete]) (13.9.4)\n",
            "Requirement already satisfied: wheel<1.0,>=0.23.0 in /usr/local/lib/python3.11/dist-packages (from astunparse>=1.6.0->tensorflow->aperturedb[complete]) (0.45.1)\n",
            "Requirement already satisfied: proto-plus<2.0.0dev,>=1.22.3 in /usr/local/lib/python3.11/dist-packages (from google-api-core<3.0.0dev,>=2.15.0->google-cloud-storage->aperturedb[complete]) (1.26.0)\n",
            "Requirement already satisfied: cachetools<6.0,>=2.0.0 in /usr/local/lib/python3.11/dist-packages (from google-auth<3.0dev,>=2.26.1->google-cloud-storage->aperturedb[complete]) (5.5.1)\n",
            "Requirement already satisfied: pyasn1-modules>=0.2.1 in /usr/local/lib/python3.11/dist-packages (from google-auth<3.0dev,>=2.26.1->google-cloud-storage->aperturedb[complete]) (0.4.1)\n",
            "Requirement already satisfied: rsa<5,>=3.1.4 in /usr/local/lib/python3.11/dist-packages (from google-auth<3.0dev,>=2.26.1->google-cloud-storage->aperturedb[complete]) (4.9)\n",
            "Requirement already satisfied: zipp>=3.20 in /usr/local/lib/python3.11/dist-packages (from importlib-metadata>=4.13.0->dask[complete]->aperturedb[complete]) (3.21.0)\n",
            "Requirement already satisfied: ipython-genutils in /usr/local/lib/python3.11/dist-packages (from ipykernel>=4.5.1->ipywidgets->aperturedb[complete]) (0.2.0)\n",
            "Requirement already satisfied: jupyter-client in /usr/local/lib/python3.11/dist-packages (from ipykernel>=4.5.1->ipywidgets->aperturedb[complete]) (6.1.12)\n",
            "Requirement already satisfied: parso<0.9.0,>=0.8.4 in /usr/local/lib/python3.11/dist-packages (from jedi>=0.16->ipython->aperturedb[complete]) (0.8.4)\n",
            "Requirement already satisfied: MarkupSafe>=2.0 in /usr/local/lib/python3.11/dist-packages (from jinja2>=2.10.3->distributed->aperturedb[complete]) (3.0.2)\n",
            "Requirement already satisfied: namex in /usr/local/lib/python3.11/dist-packages (from keras>=3.5.0->tensorflow->aperturedb[complete]) (0.0.8)\n",
            "Requirement already satisfied: optree in /usr/local/lib/python3.11/dist-packages (from keras>=3.5.0->tensorflow->aperturedb[complete]) (0.14.0)\n",
            "Requirement already satisfied: ptyprocess>=0.5 in /usr/local/lib/python3.11/dist-packages (from pexpect>4.3->ipython->aperturedb[complete]) (0.7.0)\n",
            "Requirement already satisfied: wcwidth in /usr/local/lib/python3.11/dist-packages (from prompt-toolkit!=3.0.0,!=3.0.1,<3.1.0,>=2.0.0->ipython->aperturedb[complete]) (0.2.13)\n",
            "Requirement already satisfied: markdown-it-py>=2.2.0 in /usr/local/lib/python3.11/dist-packages (from rich>=10.11.0->typer->aperturedb[complete]) (3.0.0)\n",
            "Requirement already satisfied: markdown>=2.6.8 in /usr/local/lib/python3.11/dist-packages (from tensorboard<2.19,>=2.18->tensorflow->aperturedb[complete]) (3.7)\n",
            "Requirement already satisfied: tensorboard-data-server<0.8.0,>=0.7.0 in /usr/local/lib/python3.11/dist-packages (from tensorboard<2.19,>=2.18->tensorflow->aperturedb[complete]) (0.7.2)\n",
            "Requirement already satisfied: werkzeug>=1.0.1 in /usr/local/lib/python3.11/dist-packages (from tensorboard<2.19,>=2.18->tensorflow->aperturedb[complete]) (3.1.3)\n",
            "Requirement already satisfied: webencodings in /usr/local/lib/python3.11/dist-packages (from bleach->kaggle!=1.6.15->aperturedb[complete]) (0.5.1)\n",
            "Requirement already satisfied: dask-expr<1.2,>=1.1 in /usr/local/lib/python3.11/dist-packages (from dask[complete]->aperturedb[complete]) (1.1.16)\n",
            "Requirement already satisfied: bokeh>=3.1.0 in /usr/local/lib/python3.11/dist-packages (from dask[complete]->aperturedb[complete]) (3.6.3)\n",
            "Requirement already satisfied: asgiref<4,>=3.8.1 in /usr/local/lib/python3.11/dist-packages (from django->image->aperturedb[complete]) (3.8.1)\n",
            "Requirement already satisfied: sqlparse>=0.3.1 in /usr/local/lib/python3.11/dist-packages (from django->image->aperturedb[complete]) (0.5.3)\n",
            "Requirement already satisfied: text-unidecode>=1.3 in /usr/local/lib/python3.11/dist-packages (from python-slugify->kaggle!=1.6.15->aperturedb[complete]) (1.3)\n",
            "Requirement already satisfied: mpmath<1.4,>=1.1.0 in /usr/local/lib/python3.11/dist-packages (from sympy->torch->aperturedb[complete]) (1.3.0)\n",
            "Requirement already satisfied: xyzservices>=2021.09.1 in /usr/local/lib/python3.11/dist-packages (from bokeh>=3.1.0->dask[complete]->aperturedb[complete]) (2025.1.0)\n",
            "Requirement already satisfied: mdurl~=0.1 in /usr/local/lib/python3.11/dist-packages (from markdown-it-py>=2.2.0->rich>=10.11.0->typer->aperturedb[complete]) (0.1.2)\n",
            "Requirement already satisfied: pyasn1<0.7.0,>=0.4.6 in /usr/local/lib/python3.11/dist-packages (from pyasn1-modules>=0.2.1->google-auth<3.0dev,>=2.26.1->google-cloud-storage->aperturedb[complete]) (0.6.1)\n",
            "Requirement already satisfied: jupyter-core>=4.6.0 in /usr/local/lib/python3.11/dist-packages (from jupyter-client->ipykernel>=4.5.1->ipywidgets->aperturedb[complete]) (5.7.2)\n",
            "Requirement already satisfied: pyzmq>=13 in /usr/local/lib/python3.11/dist-packages (from jupyter-client->ipykernel>=4.5.1->ipywidgets->aperturedb[complete]) (24.0.1)\n",
            "Requirement already satisfied: platformdirs>=2.5 in /usr/local/lib/python3.11/dist-packages (from jupyter-core>=4.6.0->jupyter-client->ipykernel>=4.5.1->ipywidgets->aperturedb[complete]) (4.3.6)\n",
            "Downloading facenet_pytorch-2.6.0-py3-none-any.whl (1.9 MB)\n",
            "\u001b[2K   \u001b[90m━━━━━━━━━━━━━━━━━━━━━━━━━━━━━━━━━━━━━━━━\u001b[0m \u001b[32m1.9/1.9 MB\u001b[0m \u001b[31m23.1 MB/s\u001b[0m eta \u001b[36m0:00:00\u001b[0m\n",
            "\u001b[?25hDownloading torch-2.2.2-cp311-cp311-manylinux1_x86_64.whl (755.6 MB)\n",
            "\u001b[2K   \u001b[90m━━━━━━━━━━━━━━━━━━━━━━━━━━━━━━━━━━━━━━━━\u001b[0m \u001b[32m755.6/755.6 MB\u001b[0m \u001b[31m1.7 MB/s\u001b[0m eta \u001b[36m0:00:00\u001b[0m\n",
            "\u001b[?25hDownloading nvidia_cublas_cu12-12.1.3.1-py3-none-manylinux1_x86_64.whl (410.6 MB)\n",
            "\u001b[2K   \u001b[90m━━━━━━━━━━━━━━━━━━━━━━━━━━━━━━━━━━━━━━━━\u001b[0m \u001b[32m410.6/410.6 MB\u001b[0m \u001b[31m4.2 MB/s\u001b[0m eta \u001b[36m0:00:00\u001b[0m\n",
            "\u001b[?25hDownloading nvidia_cuda_cupti_cu12-12.1.105-py3-none-manylinux1_x86_64.whl (14.1 MB)\n",
            "\u001b[2K   \u001b[90m━━━━━━━━━━━━━━━━━━━━━━━━━━━━━━━━━━━━━━━━\u001b[0m \u001b[32m14.1/14.1 MB\u001b[0m \u001b[31m60.5 MB/s\u001b[0m eta \u001b[36m0:00:00\u001b[0m\n",
            "\u001b[?25hDownloading nvidia_cuda_nvrtc_cu12-12.1.105-py3-none-manylinux1_x86_64.whl (23.7 MB)\n",
            "\u001b[2K   \u001b[90m━━━━━━━━━━━━━━━━━━━━━━━━━━━━━━━━━━━━━━━━\u001b[0m \u001b[32m23.7/23.7 MB\u001b[0m \u001b[31m35.9 MB/s\u001b[0m eta \u001b[36m0:00:00\u001b[0m\n",
            "\u001b[?25hDownloading nvidia_cuda_runtime_cu12-12.1.105-py3-none-manylinux1_x86_64.whl (823 kB)\n",
            "\u001b[2K   \u001b[90m━━━━━━━━━━━━━━━━━━━━━━━━━━━━━━━━━━━━━━━━\u001b[0m \u001b[32m823.6/823.6 kB\u001b[0m \u001b[31m36.9 MB/s\u001b[0m eta \u001b[36m0:00:00\u001b[0m\n",
            "\u001b[?25hDownloading nvidia_cudnn_cu12-8.9.2.26-py3-none-manylinux1_x86_64.whl (731.7 MB)\n",
            "\u001b[2K   \u001b[90m━━━━━━━━━━━━━━━━━━━━━━━━━━━━━━━━━━━━━━━━\u001b[0m \u001b[32m731.7/731.7 MB\u001b[0m \u001b[31m2.7 MB/s\u001b[0m eta \u001b[36m0:00:00\u001b[0m\n",
            "\u001b[?25hDownloading nvidia_cufft_cu12-11.0.2.54-py3-none-manylinux1_x86_64.whl (121.6 MB)\n",
            "\u001b[2K   \u001b[90m━━━━━━━━━━━━━━━━━━━━━━━━━━━━━━━━━━━━━━━━\u001b[0m \u001b[32m121.6/121.6 MB\u001b[0m \u001b[31m8.1 MB/s\u001b[0m eta \u001b[36m0:00:00\u001b[0m\n",
            "\u001b[?25hDownloading nvidia_curand_cu12-10.3.2.106-py3-none-manylinux1_x86_64.whl (56.5 MB)\n",
            "\u001b[2K   \u001b[90m━━━━━━━━━━━━━━━━━━━━━━━━━━━━━━━━━━━━━━━━\u001b[0m \u001b[32m56.5/56.5 MB\u001b[0m \u001b[31m13.6 MB/s\u001b[0m eta \u001b[36m0:00:00\u001b[0m\n",
            "\u001b[?25hDownloading nvidia_cusolver_cu12-11.4.5.107-py3-none-manylinux1_x86_64.whl (124.2 MB)\n",
            "\u001b[2K   \u001b[90m━━━━━━━━━━━━━━━━━━━━━━━━━━━━━━━━━━━━━━━━\u001b[0m \u001b[32m124.2/124.2 MB\u001b[0m \u001b[31m8.4 MB/s\u001b[0m eta \u001b[36m0:00:00\u001b[0m\n",
            "\u001b[?25hDownloading nvidia_cusparse_cu12-12.1.0.106-py3-none-manylinux1_x86_64.whl (196.0 MB)\n",
            "\u001b[2K   \u001b[90m━━━━━━━━━━━━━━━━━━━━━━━━━━━━━━━━━━━━━━━━\u001b[0m \u001b[32m196.0/196.0 MB\u001b[0m \u001b[31m6.2 MB/s\u001b[0m eta \u001b[36m0:00:00\u001b[0m\n",
            "\u001b[?25hDownloading nvidia_nccl_cu12-2.19.3-py3-none-manylinux1_x86_64.whl (166.0 MB)\n",
            "\u001b[2K   \u001b[90m━━━━━━━━━━━━━━━━━━━━━━━━━━━━━━━━━━━━━━━━\u001b[0m \u001b[32m166.0/166.0 MB\u001b[0m \u001b[31m7.4 MB/s\u001b[0m eta \u001b[36m0:00:00\u001b[0m\n",
            "\u001b[?25hDownloading nvidia_nvtx_cu12-12.1.105-py3-none-manylinux1_x86_64.whl (99 kB)\n",
            "\u001b[2K   \u001b[90m━━━━━━━━━━━━━━━━━━━━━━━━━━━━━━━━━━━━━━━━\u001b[0m \u001b[32m99.1/99.1 kB\u001b[0m \u001b[31m7.3 MB/s\u001b[0m eta \u001b[36m0:00:00\u001b[0m\n",
            "\u001b[?25hDownloading triton-2.2.0-cp311-cp311-manylinux_2_17_x86_64.manylinux2014_x86_64.whl (167.9 MB)\n",
            "\u001b[2K   \u001b[90m━━━━━━━━━━━━━━━━━━━━━━━━━━━━━━━━━━━━━━━━\u001b[0m \u001b[32m167.9/167.9 MB\u001b[0m \u001b[31m6.7 MB/s\u001b[0m eta \u001b[36m0:00:00\u001b[0m\n",
            "\u001b[?25hDownloading torchvision-0.17.2-cp311-cp311-manylinux1_x86_64.whl (6.9 MB)\n",
            "\u001b[2K   \u001b[90m━━━━━━━━━━━━━━━━━━━━━━━━━━━━━━━━━━━━━━━━\u001b[0m \u001b[32m6.9/6.9 MB\u001b[0m \u001b[31m86.4 MB/s\u001b[0m eta \u001b[36m0:00:00\u001b[0m\n",
            "\u001b[?25hDownloading pillow-10.2.0-cp311-cp311-manylinux_2_28_x86_64.whl (4.5 MB)\n",
            "\u001b[2K   \u001b[90m━━━━━━━━━━━━━━━━━━━━━━━━━━━━━━━━━━━━━━━━\u001b[0m \u001b[32m4.5/4.5 MB\u001b[0m \u001b[31m89.6 MB/s\u001b[0m eta \u001b[36m0:00:00\u001b[0m\n",
            "\u001b[?25hInstalling collected packages: triton, Pillow, nvidia-nvtx-cu12, nvidia-nccl-cu12, nvidia-cusparse-cu12, nvidia-curand-cu12, nvidia-cufft-cu12, nvidia-cuda-runtime-cu12, nvidia-cuda-nvrtc-cu12, nvidia-cuda-cupti-cu12, nvidia-cublas-cu12, nvidia-cusolver-cu12, nvidia-cudnn-cu12, torch, torchvision, facenet-pytorch\n",
            "  Attempting uninstall: triton\n",
            "    Found existing installation: triton 3.1.0\n",
            "    Uninstalling triton-3.1.0:\n",
            "      Successfully uninstalled triton-3.1.0\n",
            "  Attempting uninstall: Pillow\n",
            "    Found existing installation: pillow 11.1.0\n",
            "    Uninstalling pillow-11.1.0:\n",
            "      Successfully uninstalled pillow-11.1.0\n",
            "  Attempting uninstall: nvidia-nvtx-cu12\n",
            "    Found existing installation: nvidia-nvtx-cu12 12.4.127\n",
            "    Uninstalling nvidia-nvtx-cu12-12.4.127:\n",
            "      Successfully uninstalled nvidia-nvtx-cu12-12.4.127\n",
            "  Attempting uninstall: nvidia-nccl-cu12\n",
            "    Found existing installation: nvidia-nccl-cu12 2.21.5\n",
            "    Uninstalling nvidia-nccl-cu12-2.21.5:\n",
            "      Successfully uninstalled nvidia-nccl-cu12-2.21.5\n",
            "  Attempting uninstall: nvidia-cusparse-cu12\n",
            "    Found existing installation: nvidia-cusparse-cu12 12.3.1.170\n",
            "    Uninstalling nvidia-cusparse-cu12-12.3.1.170:\n",
            "      Successfully uninstalled nvidia-cusparse-cu12-12.3.1.170\n",
            "  Attempting uninstall: nvidia-curand-cu12\n",
            "    Found existing installation: nvidia-curand-cu12 10.3.5.147\n",
            "    Uninstalling nvidia-curand-cu12-10.3.5.147:\n",
            "      Successfully uninstalled nvidia-curand-cu12-10.3.5.147\n",
            "  Attempting uninstall: nvidia-cufft-cu12\n",
            "    Found existing installation: nvidia-cufft-cu12 11.2.1.3\n",
            "    Uninstalling nvidia-cufft-cu12-11.2.1.3:\n",
            "      Successfully uninstalled nvidia-cufft-cu12-11.2.1.3\n",
            "  Attempting uninstall: nvidia-cuda-runtime-cu12\n",
            "    Found existing installation: nvidia-cuda-runtime-cu12 12.4.127\n",
            "    Uninstalling nvidia-cuda-runtime-cu12-12.4.127:\n",
            "      Successfully uninstalled nvidia-cuda-runtime-cu12-12.4.127\n",
            "  Attempting uninstall: nvidia-cuda-nvrtc-cu12\n",
            "    Found existing installation: nvidia-cuda-nvrtc-cu12 12.4.127\n",
            "    Uninstalling nvidia-cuda-nvrtc-cu12-12.4.127:\n",
            "      Successfully uninstalled nvidia-cuda-nvrtc-cu12-12.4.127\n",
            "  Attempting uninstall: nvidia-cuda-cupti-cu12\n",
            "    Found existing installation: nvidia-cuda-cupti-cu12 12.4.127\n",
            "    Uninstalling nvidia-cuda-cupti-cu12-12.4.127:\n",
            "      Successfully uninstalled nvidia-cuda-cupti-cu12-12.4.127\n",
            "  Attempting uninstall: nvidia-cublas-cu12\n",
            "    Found existing installation: nvidia-cublas-cu12 12.4.5.8\n",
            "    Uninstalling nvidia-cublas-cu12-12.4.5.8:\n",
            "      Successfully uninstalled nvidia-cublas-cu12-12.4.5.8\n",
            "  Attempting uninstall: nvidia-cusolver-cu12\n",
            "    Found existing installation: nvidia-cusolver-cu12 11.6.1.9\n",
            "    Uninstalling nvidia-cusolver-cu12-11.6.1.9:\n",
            "      Successfully uninstalled nvidia-cusolver-cu12-11.6.1.9\n",
            "  Attempting uninstall: nvidia-cudnn-cu12\n",
            "    Found existing installation: nvidia-cudnn-cu12 9.1.0.70\n",
            "    Uninstalling nvidia-cudnn-cu12-9.1.0.70:\n",
            "      Successfully uninstalled nvidia-cudnn-cu12-9.1.0.70\n",
            "  Attempting uninstall: torch\n",
            "    Found existing installation: torch 2.5.1+cu124\n",
            "    Uninstalling torch-2.5.1+cu124:\n",
            "      Successfully uninstalled torch-2.5.1+cu124\n",
            "  Attempting uninstall: torchvision\n",
            "    Found existing installation: torchvision 0.20.1+cu124\n",
            "    Uninstalling torchvision-0.20.1+cu124:\n",
            "      Successfully uninstalled torchvision-0.20.1+cu124\n",
            "\u001b[31mERROR: pip's dependency resolver does not currently take into account all the packages that are installed. This behaviour is the source of the following dependency conflicts.\n",
            "torchaudio 2.5.1+cu124 requires torch==2.5.1, but you have torch 2.2.2 which is incompatible.\u001b[0m\u001b[31m\n",
            "\u001b[0mSuccessfully installed Pillow-10.2.0 facenet-pytorch-2.6.0 nvidia-cublas-cu12-12.1.3.1 nvidia-cuda-cupti-cu12-12.1.105 nvidia-cuda-nvrtc-cu12-12.1.105 nvidia-cuda-runtime-cu12-12.1.105 nvidia-cudnn-cu12-8.9.2.26 nvidia-cufft-cu12-11.0.2.54 nvidia-curand-cu12-10.3.2.106 nvidia-cusolver-cu12-11.4.5.107 nvidia-cusparse-cu12-12.1.0.106 nvidia-nccl-cu12-2.19.3 nvidia-nvtx-cu12-12.1.105 torch-2.2.2 torchvision-0.17.2 triton-2.2.0\n"
          ]
        },
        {
          "output_type": "display_data",
          "data": {
            "application/vnd.colab-display-data+json": {
              "pip_warning": {
                "packages": [
                  "PIL",
                  "torch",
                  "torchgen",
                  "torchvision",
                  "triton"
                ]
              },
              "id": "975a25af2e144761b880d4f68514c21b"
            }
          },
          "metadata": {}
        }
      ]
    },
    {
      "cell_type": "code",
      "source": [
        "import requests\n",
        "save_dir = '/content/data'\n",
        "# List of (filename, URL) pairs\n",
        "images = [\n",
        "    (\"lt-001-floor-lamp-with-fabric-shade.jpg\", \"https://m.media-amazon.com/images/I/61pJwYkeP9L._AC_SL1001_.jpg\"),\n",
        "    (\"lt-002-string-lights.jpg\", \"https://m.media-amazon.com/images/I/81wGn2TQJeL._AC_SL1500_.jpg\"),\n",
        "    (\"art-001-abstract-canvas-print-set.jpg\", \"https://m.media-amazon.com/images/I/91qqiXudI0L._AC_SL1500_.jpg\"),\n",
        "    (\"st-001-sleek-hamper-with-lid.jpg\", \"https://m.media-amazon.com/images/I/71-jCUaVwKL._AC_SL1500_.jpg\"),\n",
        "    (\"ch-001-modern-accent-chair.jpg\", \"https://m.media-amazon.com/images/I/81KuAZKVGKL._AC_SL1500_.jpg\"),\n",
        "    (\"art-002-the-artists-garden-at-giverny.jpg\", \"https://www.claude-monet.com/assets/img/paintings/the-artists-garden-at-giverny.jpg\")\n",
        "]\n",
        "\n",
        "# Iterate over the list and download each image\n",
        "for filename, url in images:\n",
        "    print(f\"Downloading {filename}...\")\n",
        "    try:\n",
        "        response = requests.get(url)\n",
        "        response.raise_for_status()  # Raises an exception for 4XX/5XX responses\n",
        "        filepath = os.path.join(save_dir, filename)\n",
        "        with open(filepath, \"wb\") as f:\n",
        "            f.write(response.content)\n",
        "        print(f\"Saved {filename}\\n\")\n",
        "    except Exception as e:\n",
        "        print(f\"Failed to download {url}: {e}\\n\")"
      ],
      "metadata": {
        "id": "8_YZJRSa0lok",
        "outputId": "a22433d4-439e-41e4-be20-88fd82043ef4",
        "colab": {
          "base_uri": "https://localhost:8080/"
        }
      },
      "execution_count": 7,
      "outputs": [
        {
          "output_type": "stream",
          "name": "stdout",
          "text": [
            "Downloading lt-001-floor-lamp-with-fabric-shade.jpg...\n",
            "Saved lt-001-floor-lamp-with-fabric-shade.jpg\n",
            "\n",
            "Downloading lt-002-string-lights.jpg...\n",
            "Saved lt-002-string-lights.jpg\n",
            "\n",
            "Downloading art-001-abstract-canvas-print-set.jpg...\n",
            "Saved art-001-abstract-canvas-print-set.jpg\n",
            "\n",
            "Downloading st-001-sleek-hamper-with-lid.jpg...\n",
            "Failed to download https://m.media-amazon.com/images/I/71-jCUaVwKL._AC_SL1500_.jpg: 404 Client Error: Not Found for url: https://m.media-amazon.com/images/I/71-jCUaVwKL._AC_SL1500_.jpg\n",
            "\n",
            "Downloading ch-001-modern-accent-chair.jpg...\n",
            "Failed to download https://m.media-amazon.com/images/I/81KuAZKVGKL._AC_SL1500_.jpg: 404 Client Error: Not Found for url: https://m.media-amazon.com/images/I/81KuAZKVGKL._AC_SL1500_.jpg\n",
            "\n",
            "Downloading art-002-the-artists-garden-at-giverny.jpg...\n",
            "Saved art-002-the-artists-garden-at-giverny.jpg\n",
            "\n"
          ]
        }
      ]
    },
    {
      "cell_type": "code",
      "source": [
        "from pandas import DataFrame\n",
        "from aperturedb.cli.ingest import from_csv, TransformerType, IngestType\n",
        "import os\n",
        "\n",
        "# Define the furniture data\n",
        "furniture_data = {\n",
        "    'EntityClass': ['Furniture'] * 6,\n",
        "    'Name': [\n",
        "        'Floor Lamp with Fabric Shade',\n",
        "        'String Lights',\n",
        "        'Abstract Canvas Print Set',\n",
        "        'Sleek Hamper with Lid',\n",
        "        'Modern Accent Chair',\n",
        "        \"The Artist's Garden at Giverny\"\n",
        "    ],\n",
        "    'category': [\n",
        "        'lighting',\n",
        "        'lighting',\n",
        "        'wall_decor',\n",
        "        'storage',\n",
        "        'seating',\n",
        "        'wall_decor'\n",
        "    ],\n",
        "    'price': [\n",
        "        129.99,\n",
        "        29.99,\n",
        "        159.99,\n",
        "        45.99,\n",
        "        299.99,\n",
        "        53.00\n",
        "    ],\n",
        "    'description': [\n",
        "        'Warm, dimmable lighting that creates a cozy atmosphere',\n",
        "        'Warm white LED string lights to add a magical touch',\n",
        "        'Set of 3 coordinating abstract prints that add color and interest',\n",
        "        'Modern hamper that keeps laundry out of sight',\n",
        "        'Comfortable yet stylish chair that provides extra seating without taking up too much space',\n",
        "        \"A masterpiece capturing the serene beauty of Monet's garden with vibrant colors and impressionistic style\"\n",
        "    ],\n",
        "    'image_url': [\n",
        "        'https://m.media-amazon.com/images/I/61pJwYkeP9L._AC_SL1001_.jpg',\n",
        "        'https://m.media-amazon.com/images/I/81wGn2TQJeL._AC_SL1500_.jpg',\n",
        "        'https://m.media-amazon.com/images/I/91qqiXudI0L._AC_SL1500_.jpg',\n",
        "        'https://m.media-amazon.com/images/I/71-jCUaVwKL._AC_SL1500_.jpg',\n",
        "        'https://m.media-amazon.com/images/I/81KuAZKVGKL._AC_SL1500_.jpg',\n",
        "        'https://www.claude-monet.com/assets/img/paintings/the-artists-garden-at-giverny.jpg'\n",
        "    ]\n",
        "}\n",
        "\n",
        "def main():\n",
        "    # # Create data directory if it doesn't exist\n",
        "    # os.makedirs('/content/data', exist_ok=True)\n",
        "\n",
        "    # # Convert to DataFrame\n",
        "    # df = DataFrame(furniture_data)\n",
        "\n",
        "    # # Add constraint columns\n",
        "    # df['constraint_Name'] = df['Name']\n",
        "\n",
        "    # # Save to CSV\n",
        "    # csv_path = '/content/data/furniture.adb.csv'\n",
        "    # df.to_csv(csv_path, index=False)\n",
        "    # print(f\"Written to {csv_path}\")\n",
        "\n",
        "    # Ingest into ApertureDB\n",
        "    from_csv(\n",
        "        filepath=\"/content/data/furniture_images.adb.csv\",\n",
        "        ingest_type=IngestType.IMAGE,\n",
        "        transformer=[\n",
        "            TransformerType.clip_pytorch_embeddings,\n",
        "            TransformerType.image_properties,\n",
        "            TransformerType.common_properties\n",
        "        ]\n",
        "    )\n",
        "\n",
        "    # Load furniture categories\n",
        "    print(\"Loading furniture categories...\")\n",
        "    from_csv(\n",
        "        filepath=\"/content/data/furniture_categories.adb.csv\",\n",
        "        ingest_type=IngestType.ENTITY,\n",
        "    )\n",
        "\n",
        "    # Load connections between furniture and categories\n",
        "    print(\"Loading furniture-category connections...\")\n",
        "    from_csv(\n",
        "        filepath=\"/content/data/furniture_connections.adb.csv\",\n",
        "        ingest_type=IngestType.CONNECTION,\n",
        "    )\n",
        "\n",
        "main()"
      ],
      "metadata": {
        "colab": {
          "base_uri": "https://localhost:8080/",
          "height": 1000
        },
        "id": "v5974YzKrkwE",
        "outputId": "b491dbe9-687c-4501-dffe-b93b8b7fb487"
      },
      "execution_count": 8,
      "outputs": [
        {
          "output_type": "display_data",
          "data": {
            "text/plain": [
              "\u001b[2;36m[22:14:15]\u001b[0m\u001b[2;36m \u001b[0mApplying Pipeline:                                                                          \u001b]8;id=952357;file:///usr/local/lib/python3.11/dist-packages/aperturedb/cli/ingest.py\u001b\\\u001b[2mingest.py\u001b[0m\u001b]8;;\u001b\\\u001b[2m:\u001b[0m\u001b]8;id=196766;file:///usr/local/lib/python3.11/dist-packages/aperturedb/cli/ingest.py#49\u001b\\\u001b[2m49\u001b[0m\u001b]8;;\u001b\\\n",
              "\u001b[2;36m           \u001b[0mCLIPPyTorchEmbeddings\u001b[1m[\u001b[0m\u001b[1m{\u001b[0m\u001b[32m'adb_data_source'\u001b[0m: \u001b[32m'IngestType.IMAGE.furniture_images.adb.csv'\u001b[0m\u001b[1m}\u001b[0m\u001b[1m]\u001b[0m     \u001b[2m            \u001b[0m\n",
              "\u001b[2;36m           \u001b[0m=>ImageProperties\u001b[1m[\u001b[0m\u001b[1m{\u001b[0m\u001b[32m'adb_data_source'\u001b[0m: \u001b[32m'IngestType.IMAGE.furniture_images.adb.csv'\u001b[0m\u001b[1m}\u001b[0m\u001b[1m]\u001b[0m         \u001b[2m            \u001b[0m\n",
              "\u001b[2;36m           \u001b[0m=>CommonProperties\u001b[1m[\u001b[0m\u001b[1m{\u001b[0m\u001b[32m'adb_data_source'\u001b[0m: \u001b[32m'IngestType.IMAGE.furniture_images.adb.csv'\u001b[0m\u001b[1m}\u001b[0m\u001b[1m]\u001b[0m        \u001b[2m            \u001b[0m\n"
            ],
            "text/html": [
              "<pre style=\"white-space:pre;overflow-x:auto;line-height:normal;font-family:Menlo,'DejaVu Sans Mono',consolas,'Courier New',monospace\"><span style=\"color: #7fbfbf; text-decoration-color: #7fbfbf\">[22:14:15] </span>Applying Pipeline:                                                                          <a href=\"file:///usr/local/lib/python3.11/dist-packages/aperturedb/cli/ingest.py\" target=\"_blank\"><span style=\"color: #7f7f7f; text-decoration-color: #7f7f7f\">ingest.py</span></a><span style=\"color: #7f7f7f; text-decoration-color: #7f7f7f\">:</span><a href=\"file:///usr/local/lib/python3.11/dist-packages/aperturedb/cli/ingest.py#49\" target=\"_blank\"><span style=\"color: #7f7f7f; text-decoration-color: #7f7f7f\">49</span></a>\n",
              "<span style=\"color: #7fbfbf; text-decoration-color: #7fbfbf\">           </span>CLIPPyTorchEmbeddings<span style=\"font-weight: bold\">[{</span><span style=\"color: #008000; text-decoration-color: #008000\">'adb_data_source'</span>: <span style=\"color: #008000; text-decoration-color: #008000\">'IngestType.IMAGE.furniture_images.adb.csv'</span><span style=\"font-weight: bold\">}]</span>     <span style=\"color: #7f7f7f; text-decoration-color: #7f7f7f\">            </span>\n",
              "<span style=\"color: #7fbfbf; text-decoration-color: #7fbfbf\">           </span>=&gt;ImageProperties<span style=\"font-weight: bold\">[{</span><span style=\"color: #008000; text-decoration-color: #008000\">'adb_data_source'</span>: <span style=\"color: #008000; text-decoration-color: #008000\">'IngestType.IMAGE.furniture_images.adb.csv'</span><span style=\"font-weight: bold\">}]</span>         <span style=\"color: #7f7f7f; text-decoration-color: #7f7f7f\">            </span>\n",
              "<span style=\"color: #7fbfbf; text-decoration-color: #7fbfbf\">           </span>=&gt;CommonProperties<span style=\"font-weight: bold\">[{</span><span style=\"color: #008000; text-decoration-color: #008000\">'adb_data_source'</span>: <span style=\"color: #008000; text-decoration-color: #008000\">'IngestType.IMAGE.furniture_images.adb.csv'</span><span style=\"font-weight: bold\">}]</span>        <span style=\"color: #7f7f7f; text-decoration-color: #7f7f7f\">            </span>\n",
              "</pre>\n"
            ]
          },
          "metadata": {}
        },
        {
          "output_type": "display_data",
          "data": {
            "text/plain": [
              "\u001b[2;36m[22:14:21]\u001b[0m\u001b[2;36m \u001b[0m\u001b[1m<\u001b[0m\u001b[1;95maperturedb.Connector.Connector\u001b[0m\u001b[39m object at \u001b[0m\u001b[1;36m0x7f792a89dd90\u001b[0m\u001b[1m>\u001b[0m                                  \u001b]8;id=282220;file:///usr/local/lib/python3.11/dist-packages/aperturedb/cli/ingest.py\u001b\\\u001b[2mingest.py\u001b[0m\u001b]8;;\u001b\\\u001b[2m:\u001b[0m\u001b]8;id=278123;file:///usr/local/lib/python3.11/dist-packages/aperturedb/cli/ingest.py#215\u001b\\\u001b[2m215\u001b[0m\u001b]8;;\u001b\\\n"
            ],
            "text/html": [
              "<pre style=\"white-space:pre;overflow-x:auto;line-height:normal;font-family:Menlo,'DejaVu Sans Mono',consolas,'Courier New',monospace\"><span style=\"color: #7fbfbf; text-decoration-color: #7fbfbf\">[22:14:21] </span><span style=\"font-weight: bold\">&lt;</span><span style=\"color: #ff00ff; text-decoration-color: #ff00ff; font-weight: bold\">aperturedb.Connector.Connector</span><span style=\"color: #000000; text-decoration-color: #000000\"> object at </span><span style=\"color: #008080; text-decoration-color: #008080; font-weight: bold\">0x7f792a89dd90</span><span style=\"font-weight: bold\">&gt;</span>                                  <a href=\"file:///usr/local/lib/python3.11/dist-packages/aperturedb/cli/ingest.py\" target=\"_blank\"><span style=\"color: #7f7f7f; text-decoration-color: #7f7f7f\">ingest.py</span></a><span style=\"color: #7f7f7f; text-decoration-color: #7f7f7f\">:</span><a href=\"file:///usr/local/lib/python3.11/dist-packages/aperturedb/cli/ingest.py#215\" target=\"_blank\"><span style=\"color: #7f7f7f; text-decoration-color: #7f7f7f\">215</span></a>\n",
              "</pre>\n"
            ]
          },
          "metadata": {}
        },
        {
          "output_type": "stream",
          "name": "stdout",
          "text": [
            "sample_count 6\n",
            "Progress: 50.00% - ETA(s): 3.87"
          ]
        },
        {
          "output_type": "stream",
          "name": "stderr",
          "text": [
            "2025-02-16 22:14:30,590 : ERROR : aperturedb.ImageDataCSV : 140158752728640 : 66 : IMAGE ERROR: /content/data/st-001-sleek-hamper-with-lid.jpg\n",
            "ERROR:aperturedb.ImageDataCSV:IMAGE ERROR: /content/data/st-001-sleek-hamper-with-lid.jpg\n",
            "2025-02-16 22:14:30,594 : ERROR : aperturedb.ImageDataCSV : 140158752728640 : 67 : 'NoneType' object has no attribute 'size'\n",
            "Traceback (most recent call last):\n",
            "  File \"/usr/local/lib/python3.11/dist-packages/aperturedb/ImageDataCSV.py\", line 62, in load_image\n",
            "    if a.size <= 0:\n",
            "       ^^^^^^\n",
            "AttributeError: 'NoneType' object has no attribute 'size'\n",
            "ERROR:aperturedb.ImageDataCSV:'NoneType' object has no attribute 'size'\n",
            "Traceback (most recent call last):\n",
            "  File \"/usr/local/lib/python3.11/dist-packages/aperturedb/ImageDataCSV.py\", line 62, in load_image\n",
            "    if a.size <= 0:\n",
            "       ^^^^^^\n",
            "AttributeError: 'NoneType' object has no attribute 'size'\n",
            "2025-02-16 22:14:30,598 : ERROR : aperturedb.Sources : 140158752728640 : 32 : VALIDATION ERROR: /content/data/st-001-sleek-hamper-with-lid.jpg\n",
            "ERROR:aperturedb.Sources:VALIDATION ERROR: /content/data/st-001-sleek-hamper-with-lid.jpg\n",
            "2025-02-16 22:14:30,600 : ERROR : aperturedb.Sources : 140158752728640 : 33 : [Errno 2] No such file or directory: '/content/data/st-001-sleek-hamper-with-lid.jpg'\n",
            "Traceback (most recent call last):\n",
            "  File \"/usr/local/lib/python3.11/dist-packages/aperturedb/Sources.py\", line 27, in load_from_file\n",
            "    fd = open(filename, \"rb\")\n",
            "         ^^^^^^^^^^^^^^^^^^^^\n",
            "FileNotFoundError: [Errno 2] No such file or directory: '/content/data/st-001-sleek-hamper-with-lid.jpg'\n",
            "ERROR:aperturedb.Sources:[Errno 2] No such file or directory: '/content/data/st-001-sleek-hamper-with-lid.jpg'\n",
            "Traceback (most recent call last):\n",
            "  File \"/usr/local/lib/python3.11/dist-packages/aperturedb/Sources.py\", line 27, in load_from_file\n",
            "    fd = open(filename, \"rb\")\n",
            "         ^^^^^^^^^^^^^^^^^^^^\n",
            "FileNotFoundError: [Errno 2] No such file or directory: '/content/data/st-001-sleek-hamper-with-lid.jpg'\n",
            "2025-02-16 22:14:30,602 : ERROR : aperturedb.ParallelQuery : 140158752728640 : 236 : cannot access local variable 'fd' where it is not associated with a value\n",
            "Traceback (most recent call last):\n",
            "  File \"/usr/local/lib/python3.11/dist-packages/aperturedb/ParallelQuery.py\", line 234, in worker\n",
            "    generator[batch_start:batch_end])\n",
            "    ~~~~~~~~~^^^^^^^^^^^^^^^^^^^^^^^\n",
            "  File \"/usr/local/lib/python3.11/dist-packages/aperturedb/Subscriptable.py\", line 33, in __getitem__\n",
            "    [self.getitem(i) for i in range(start, stop, step)],\n",
            "    ^^^^^^^^^^^^^^^^^^^^^^^^^^^^^^^^^^^^^^^^^^^^^^^^^^^\n",
            "  File \"/usr/local/lib/python3.11/dist-packages/aperturedb/Subscriptable.py\", line 33, in <listcomp>\n",
            "    [self.getitem(i) for i in range(start, stop, step)],\n",
            "     ^^^^^^^^^^^^^^^\n",
            "  File \"/usr/local/lib/python3.11/dist-packages/aperturedb/transformers/common_properties.py\", line 30, in getitem\n",
            "    x = self.data[subscript]\n",
            "        ~~~~~~~~~^^^^^^^^^^^\n",
            "  File \"/usr/local/lib/python3.11/dist-packages/aperturedb/Subscriptable.py\", line 45, in __getitem__\n",
            "    return self.getitem(subscript)\n",
            "           ^^^^^^^^^^^^^^^^^^^^^^^\n",
            "  File \"/usr/local/lib/python3.11/dist-packages/aperturedb/transformers/image_properties.py\", line 26, in getitem\n",
            "    x = self.data[subscript]\n",
            "        ~~~~~~~~~^^^^^^^^^^^\n",
            "  File \"/usr/local/lib/python3.11/dist-packages/aperturedb/Subscriptable.py\", line 45, in __getitem__\n",
            "    return self.getitem(subscript)\n",
            "           ^^^^^^^^^^^^^^^^^^^^^^^\n",
            "  File \"/usr/local/lib/python3.11/dist-packages/aperturedb/transformers/clip_pytorch_embeddings.py\", line 30, in getitem\n",
            "    x = self.data[subscript]\n",
            "        ~~~~~~~~~^^^^^^^^^^^\n",
            "  File \"/usr/local/lib/python3.11/dist-packages/aperturedb/Subscriptable.py\", line 45, in __getitem__\n",
            "    return self.getitem(subscript)\n",
            "           ^^^^^^^^^^^^^^^^^^^^^^^\n",
            "  File \"/usr/local/lib/python3.11/dist-packages/aperturedb/ImageDataCSV.py\", line 210, in getitem\n",
            "    img_ok, img = self.source_loader[self.source_type](image_path)\n",
            "                  ^^^^^^^^^^^^^^^^^^^^^^^^^^^^^^^^^^^^^^^^^^^^^^^^\n",
            "  File \"/usr/local/lib/python3.11/dist-packages/aperturedb/ImageDataCSV.py\", line 69, in load_image\n",
            "    return self.sources.load_from_file(filename)\n",
            "           ^^^^^^^^^^^^^^^^^^^^^^^^^^^^^^^^^^^^^\n",
            "  File \"/usr/local/lib/python3.11/dist-packages/aperturedb/Sources.py\", line 35, in load_from_file\n",
            "    if not fd.closed:\n",
            "           ^^\n",
            "UnboundLocalError: cannot access local variable 'fd' where it is not associated with a value\n",
            "ERROR:aperturedb.ParallelQuery:cannot access local variable 'fd' where it is not associated with a value\n",
            "Traceback (most recent call last):\n",
            "  File \"/usr/local/lib/python3.11/dist-packages/aperturedb/ParallelQuery.py\", line 234, in worker\n",
            "    generator[batch_start:batch_end])\n",
            "    ~~~~~~~~~^^^^^^^^^^^^^^^^^^^^^^^\n",
            "  File \"/usr/local/lib/python3.11/dist-packages/aperturedb/Subscriptable.py\", line 33, in __getitem__\n",
            "    [self.getitem(i) for i in range(start, stop, step)],\n",
            "    ^^^^^^^^^^^^^^^^^^^^^^^^^^^^^^^^^^^^^^^^^^^^^^^^^^^\n",
            "  File \"/usr/local/lib/python3.11/dist-packages/aperturedb/Subscriptable.py\", line 33, in <listcomp>\n",
            "    [self.getitem(i) for i in range(start, stop, step)],\n",
            "     ^^^^^^^^^^^^^^^\n",
            "  File \"/usr/local/lib/python3.11/dist-packages/aperturedb/transformers/common_properties.py\", line 30, in getitem\n",
            "    x = self.data[subscript]\n",
            "        ~~~~~~~~~^^^^^^^^^^^\n",
            "  File \"/usr/local/lib/python3.11/dist-packages/aperturedb/Subscriptable.py\", line 45, in __getitem__\n",
            "    return self.getitem(subscript)\n",
            "           ^^^^^^^^^^^^^^^^^^^^^^^\n",
            "  File \"/usr/local/lib/python3.11/dist-packages/aperturedb/transformers/image_properties.py\", line 26, in getitem\n",
            "    x = self.data[subscript]\n",
            "        ~~~~~~~~~^^^^^^^^^^^\n",
            "  File \"/usr/local/lib/python3.11/dist-packages/aperturedb/Subscriptable.py\", line 45, in __getitem__\n",
            "    return self.getitem(subscript)\n",
            "           ^^^^^^^^^^^^^^^^^^^^^^^\n",
            "  File \"/usr/local/lib/python3.11/dist-packages/aperturedb/transformers/clip_pytorch_embeddings.py\", line 30, in getitem\n",
            "    x = self.data[subscript]\n",
            "        ~~~~~~~~~^^^^^^^^^^^\n",
            "  File \"/usr/local/lib/python3.11/dist-packages/aperturedb/Subscriptable.py\", line 45, in __getitem__\n",
            "    return self.getitem(subscript)\n",
            "           ^^^^^^^^^^^^^^^^^^^^^^^\n",
            "  File \"/usr/local/lib/python3.11/dist-packages/aperturedb/ImageDataCSV.py\", line 210, in getitem\n",
            "    img_ok, img = self.source_loader[self.source_type](image_path)\n",
            "                  ^^^^^^^^^^^^^^^^^^^^^^^^^^^^^^^^^^^^^^^^^^^^^^^^\n",
            "  File \"/usr/local/lib/python3.11/dist-packages/aperturedb/ImageDataCSV.py\", line 69, in load_image\n",
            "    return self.sources.load_from_file(filename)\n",
            "           ^^^^^^^^^^^^^^^^^^^^^^^^^^^^^^^^^^^^^\n",
            "  File \"/usr/local/lib/python3.11/dist-packages/aperturedb/Sources.py\", line 35, in load_from_file\n",
            "    if not fd.closed:\n",
            "           ^^\n",
            "UnboundLocalError: cannot access local variable 'fd' where it is not associated with a value\n",
            "WARNING:aperturedb.ParallelQuery:Worker 0 failed to execute batch 3: [3,4]\n"
          ]
        },
        {
          "output_type": "stream",
          "name": "stdout",
          "text": [
            "\rProgress: 66.67% - ETA(s): 3.87"
          ]
        },
        {
          "output_type": "stream",
          "name": "stderr",
          "text": [
            "2025-02-16 22:14:30,613 : ERROR : aperturedb.ImageDataCSV : 140158752728640 : 66 : IMAGE ERROR: /content/data/ch-001-modern-accent-chair.jpg\n",
            "ERROR:aperturedb.ImageDataCSV:IMAGE ERROR: /content/data/ch-001-modern-accent-chair.jpg\n",
            "2025-02-16 22:14:30,615 : ERROR : aperturedb.ImageDataCSV : 140158752728640 : 67 : 'NoneType' object has no attribute 'size'\n",
            "Traceback (most recent call last):\n",
            "  File \"/usr/local/lib/python3.11/dist-packages/aperturedb/ImageDataCSV.py\", line 62, in load_image\n",
            "    if a.size <= 0:\n",
            "       ^^^^^^\n",
            "AttributeError: 'NoneType' object has no attribute 'size'\n",
            "ERROR:aperturedb.ImageDataCSV:'NoneType' object has no attribute 'size'\n",
            "Traceback (most recent call last):\n",
            "  File \"/usr/local/lib/python3.11/dist-packages/aperturedb/ImageDataCSV.py\", line 62, in load_image\n",
            "    if a.size <= 0:\n",
            "       ^^^^^^\n",
            "AttributeError: 'NoneType' object has no attribute 'size'\n",
            "2025-02-16 22:14:30,618 : ERROR : aperturedb.Sources : 140158752728640 : 32 : VALIDATION ERROR: /content/data/ch-001-modern-accent-chair.jpg\n",
            "ERROR:aperturedb.Sources:VALIDATION ERROR: /content/data/ch-001-modern-accent-chair.jpg\n",
            "2025-02-16 22:14:30,620 : ERROR : aperturedb.Sources : 140158752728640 : 33 : [Errno 2] No such file or directory: '/content/data/ch-001-modern-accent-chair.jpg'\n",
            "Traceback (most recent call last):\n",
            "  File \"/usr/local/lib/python3.11/dist-packages/aperturedb/Sources.py\", line 27, in load_from_file\n",
            "    fd = open(filename, \"rb\")\n",
            "         ^^^^^^^^^^^^^^^^^^^^\n",
            "FileNotFoundError: [Errno 2] No such file or directory: '/content/data/ch-001-modern-accent-chair.jpg'\n",
            "ERROR:aperturedb.Sources:[Errno 2] No such file or directory: '/content/data/ch-001-modern-accent-chair.jpg'\n",
            "Traceback (most recent call last):\n",
            "  File \"/usr/local/lib/python3.11/dist-packages/aperturedb/Sources.py\", line 27, in load_from_file\n",
            "    fd = open(filename, \"rb\")\n",
            "         ^^^^^^^^^^^^^^^^^^^^\n",
            "FileNotFoundError: [Errno 2] No such file or directory: '/content/data/ch-001-modern-accent-chair.jpg'\n",
            "2025-02-16 22:14:30,622 : ERROR : aperturedb.ParallelQuery : 140158752728640 : 236 : cannot access local variable 'fd' where it is not associated with a value\n",
            "Traceback (most recent call last):\n",
            "  File \"/usr/local/lib/python3.11/dist-packages/aperturedb/ParallelQuery.py\", line 234, in worker\n",
            "    generator[batch_start:batch_end])\n",
            "    ~~~~~~~~~^^^^^^^^^^^^^^^^^^^^^^^\n",
            "  File \"/usr/local/lib/python3.11/dist-packages/aperturedb/Subscriptable.py\", line 33, in __getitem__\n",
            "    [self.getitem(i) for i in range(start, stop, step)],\n",
            "    ^^^^^^^^^^^^^^^^^^^^^^^^^^^^^^^^^^^^^^^^^^^^^^^^^^^\n",
            "  File \"/usr/local/lib/python3.11/dist-packages/aperturedb/Subscriptable.py\", line 33, in <listcomp>\n",
            "    [self.getitem(i) for i in range(start, stop, step)],\n",
            "     ^^^^^^^^^^^^^^^\n",
            "  File \"/usr/local/lib/python3.11/dist-packages/aperturedb/transformers/common_properties.py\", line 30, in getitem\n",
            "    x = self.data[subscript]\n",
            "        ~~~~~~~~~^^^^^^^^^^^\n",
            "  File \"/usr/local/lib/python3.11/dist-packages/aperturedb/Subscriptable.py\", line 45, in __getitem__\n",
            "    return self.getitem(subscript)\n",
            "           ^^^^^^^^^^^^^^^^^^^^^^^\n",
            "  File \"/usr/local/lib/python3.11/dist-packages/aperturedb/transformers/image_properties.py\", line 26, in getitem\n",
            "    x = self.data[subscript]\n",
            "        ~~~~~~~~~^^^^^^^^^^^\n",
            "  File \"/usr/local/lib/python3.11/dist-packages/aperturedb/Subscriptable.py\", line 45, in __getitem__\n",
            "    return self.getitem(subscript)\n",
            "           ^^^^^^^^^^^^^^^^^^^^^^^\n",
            "  File \"/usr/local/lib/python3.11/dist-packages/aperturedb/transformers/clip_pytorch_embeddings.py\", line 30, in getitem\n",
            "    x = self.data[subscript]\n",
            "        ~~~~~~~~~^^^^^^^^^^^\n",
            "  File \"/usr/local/lib/python3.11/dist-packages/aperturedb/Subscriptable.py\", line 45, in __getitem__\n",
            "    return self.getitem(subscript)\n",
            "           ^^^^^^^^^^^^^^^^^^^^^^^\n",
            "  File \"/usr/local/lib/python3.11/dist-packages/aperturedb/ImageDataCSV.py\", line 210, in getitem\n",
            "    img_ok, img = self.source_loader[self.source_type](image_path)\n",
            "                  ^^^^^^^^^^^^^^^^^^^^^^^^^^^^^^^^^^^^^^^^^^^^^^^^\n",
            "  File \"/usr/local/lib/python3.11/dist-packages/aperturedb/ImageDataCSV.py\", line 69, in load_image\n",
            "    return self.sources.load_from_file(filename)\n",
            "           ^^^^^^^^^^^^^^^^^^^^^^^^^^^^^^^^^^^^^\n",
            "  File \"/usr/local/lib/python3.11/dist-packages/aperturedb/Sources.py\", line 35, in load_from_file\n",
            "    if not fd.closed:\n",
            "           ^^\n",
            "UnboundLocalError: cannot access local variable 'fd' where it is not associated with a value\n",
            "ERROR:aperturedb.ParallelQuery:cannot access local variable 'fd' where it is not associated with a value\n",
            "Traceback (most recent call last):\n",
            "  File \"/usr/local/lib/python3.11/dist-packages/aperturedb/ParallelQuery.py\", line 234, in worker\n",
            "    generator[batch_start:batch_end])\n",
            "    ~~~~~~~~~^^^^^^^^^^^^^^^^^^^^^^^\n",
            "  File \"/usr/local/lib/python3.11/dist-packages/aperturedb/Subscriptable.py\", line 33, in __getitem__\n",
            "    [self.getitem(i) for i in range(start, stop, step)],\n",
            "    ^^^^^^^^^^^^^^^^^^^^^^^^^^^^^^^^^^^^^^^^^^^^^^^^^^^\n",
            "  File \"/usr/local/lib/python3.11/dist-packages/aperturedb/Subscriptable.py\", line 33, in <listcomp>\n",
            "    [self.getitem(i) for i in range(start, stop, step)],\n",
            "     ^^^^^^^^^^^^^^^\n",
            "  File \"/usr/local/lib/python3.11/dist-packages/aperturedb/transformers/common_properties.py\", line 30, in getitem\n",
            "    x = self.data[subscript]\n",
            "        ~~~~~~~~~^^^^^^^^^^^\n",
            "  File \"/usr/local/lib/python3.11/dist-packages/aperturedb/Subscriptable.py\", line 45, in __getitem__\n",
            "    return self.getitem(subscript)\n",
            "           ^^^^^^^^^^^^^^^^^^^^^^^\n",
            "  File \"/usr/local/lib/python3.11/dist-packages/aperturedb/transformers/image_properties.py\", line 26, in getitem\n",
            "    x = self.data[subscript]\n",
            "        ~~~~~~~~~^^^^^^^^^^^\n",
            "  File \"/usr/local/lib/python3.11/dist-packages/aperturedb/Subscriptable.py\", line 45, in __getitem__\n",
            "    return self.getitem(subscript)\n",
            "           ^^^^^^^^^^^^^^^^^^^^^^^\n",
            "  File \"/usr/local/lib/python3.11/dist-packages/aperturedb/transformers/clip_pytorch_embeddings.py\", line 30, in getitem\n",
            "    x = self.data[subscript]\n",
            "        ~~~~~~~~~^^^^^^^^^^^\n",
            "  File \"/usr/local/lib/python3.11/dist-packages/aperturedb/Subscriptable.py\", line 45, in __getitem__\n",
            "    return self.getitem(subscript)\n",
            "           ^^^^^^^^^^^^^^^^^^^^^^^\n",
            "  File \"/usr/local/lib/python3.11/dist-packages/aperturedb/ImageDataCSV.py\", line 210, in getitem\n",
            "    img_ok, img = self.source_loader[self.source_type](image_path)\n",
            "                  ^^^^^^^^^^^^^^^^^^^^^^^^^^^^^^^^^^^^^^^^^^^^^^^^\n",
            "  File \"/usr/local/lib/python3.11/dist-packages/aperturedb/ImageDataCSV.py\", line 69, in load_image\n",
            "    return self.sources.load_from_file(filename)\n",
            "           ^^^^^^^^^^^^^^^^^^^^^^^^^^^^^^^^^^^^^\n",
            "  File \"/usr/local/lib/python3.11/dist-packages/aperturedb/Sources.py\", line 35, in load_from_file\n",
            "    if not fd.closed:\n",
            "           ^^\n",
            "UnboundLocalError: cannot access local variable 'fd' where it is not associated with a value\n",
            "WARNING:aperturedb.ParallelQuery:Worker 0 failed to execute batch 4: [4,5]\n"
          ]
        },
        {
          "output_type": "stream",
          "name": "stdout",
          "text": [
            "Progress: 100.00% - ETA(s): 0.00\n",
            "============ ApertureDB Loader Stats ============\n",
            "Total time (s): 5.349114894866943\n",
            "Total queries executed: 4\n",
            "Avg Query time (s): 0.6419495940208435\n",
            "Query time std: 0.5722516523554229\n",
            "Avg Query Throughput (q/s): 1.5577547042852884\n",
            "Overall insertion throughput (element/s): NaN\n",
            "Total errors encountered: 2\n",
            "Errors (%): 50.0\n",
            "Total inserted elements: 4\n",
            "Total successful commands: 8\n",
            "=================================================\n",
            "Loading furniture categories...\n"
          ]
        },
        {
          "output_type": "display_data",
          "data": {
            "text/plain": [
              "\u001b[2;36m[22:14:31]\u001b[0m\u001b[2;36m \u001b[0mNo transformer applied                                                                     \u001b]8;id=855194;file:///usr/local/lib/python3.11/dist-packages/aperturedb/cli/ingest.py\u001b\\\u001b[2mingest.py\u001b[0m\u001b]8;;\u001b\\\u001b[2m:\u001b[0m\u001b]8;id=952989;file:///usr/local/lib/python3.11/dist-packages/aperturedb/cli/ingest.py#213\u001b\\\u001b[2m213\u001b[0m\u001b]8;;\u001b\\\n"
            ],
            "text/html": [
              "<pre style=\"white-space:pre;overflow-x:auto;line-height:normal;font-family:Menlo,'DejaVu Sans Mono',consolas,'Courier New',monospace\"><span style=\"color: #7fbfbf; text-decoration-color: #7fbfbf\">[22:14:31] </span>No transformer applied                                                                     <a href=\"file:///usr/local/lib/python3.11/dist-packages/aperturedb/cli/ingest.py\" target=\"_blank\"><span style=\"color: #7f7f7f; text-decoration-color: #7f7f7f\">ingest.py</span></a><span style=\"color: #7f7f7f; text-decoration-color: #7f7f7f\">:</span><a href=\"file:///usr/local/lib/python3.11/dist-packages/aperturedb/cli/ingest.py#213\" target=\"_blank\"><span style=\"color: #7f7f7f; text-decoration-color: #7f7f7f\">213</span></a>\n",
              "</pre>\n"
            ]
          },
          "metadata": {}
        },
        {
          "output_type": "display_data",
          "data": {
            "text/plain": [
              "\u001b[2;36m[22:14:32]\u001b[0m\u001b[2;36m \u001b[0m\u001b[1m<\u001b[0m\u001b[1;95maperturedb.Connector.Connector\u001b[0m\u001b[39m object at \u001b[0m\u001b[1;36m0x7f7a2c9194d0\u001b[0m\u001b[1m>\u001b[0m                                  \u001b]8;id=410284;file:///usr/local/lib/python3.11/dist-packages/aperturedb/cli/ingest.py\u001b\\\u001b[2mingest.py\u001b[0m\u001b]8;;\u001b\\\u001b[2m:\u001b[0m\u001b]8;id=752352;file:///usr/local/lib/python3.11/dist-packages/aperturedb/cli/ingest.py#215\u001b\\\u001b[2m215\u001b[0m\u001b]8;;\u001b\\\n"
            ],
            "text/html": [
              "<pre style=\"white-space:pre;overflow-x:auto;line-height:normal;font-family:Menlo,'DejaVu Sans Mono',consolas,'Courier New',monospace\"><span style=\"color: #7fbfbf; text-decoration-color: #7fbfbf\">[22:14:32] </span><span style=\"font-weight: bold\">&lt;</span><span style=\"color: #ff00ff; text-decoration-color: #ff00ff; font-weight: bold\">aperturedb.Connector.Connector</span><span style=\"color: #000000; text-decoration-color: #000000\"> object at </span><span style=\"color: #008080; text-decoration-color: #008080; font-weight: bold\">0x7f7a2c9194d0</span><span style=\"font-weight: bold\">&gt;</span>                                  <a href=\"file:///usr/local/lib/python3.11/dist-packages/aperturedb/cli/ingest.py\" target=\"_blank\"><span style=\"color: #7f7f7f; text-decoration-color: #7f7f7f\">ingest.py</span></a><span style=\"color: #7f7f7f; text-decoration-color: #7f7f7f\">:</span><a href=\"file:///usr/local/lib/python3.11/dist-packages/aperturedb/cli/ingest.py#215\" target=\"_blank\"><span style=\"color: #7f7f7f; text-decoration-color: #7f7f7f\">215</span></a>\n",
              "</pre>\n"
            ]
          },
          "metadata": {}
        },
        {
          "output_type": "stream",
          "name": "stdout",
          "text": [
            "sample_count 4\n",
            "Progress: 100.00% - ETA(s): 0.28\n",
            "============ ApertureDB Loader Stats ============\n",
            "Total time (s): 1.7765305042266846\n",
            "Total queries executed: 4\n",
            "Avg Query time (s): 0.4413309693336487\n",
            "Query time std: 0.4758741684165157\n",
            "Avg Query Throughput (q/s): 2.26587316432805\n",
            "Overall insertion throughput (element/s): 2.2515796888841946\n",
            "Total inserted elements: 4\n",
            "Total successful commands: 4\n",
            "=================================================\n",
            "Loading furniture-category connections...\n"
          ]
        },
        {
          "output_type": "display_data",
          "data": {
            "text/plain": [
              "\u001b[2;36m[22:14:36]\u001b[0m\u001b[2;36m \u001b[0mNo transformer applied                                                                     \u001b]8;id=448097;file:///usr/local/lib/python3.11/dist-packages/aperturedb/cli/ingest.py\u001b\\\u001b[2mingest.py\u001b[0m\u001b]8;;\u001b\\\u001b[2m:\u001b[0m\u001b]8;id=12862;file:///usr/local/lib/python3.11/dist-packages/aperturedb/cli/ingest.py#213\u001b\\\u001b[2m213\u001b[0m\u001b]8;;\u001b\\\n"
            ],
            "text/html": [
              "<pre style=\"white-space:pre;overflow-x:auto;line-height:normal;font-family:Menlo,'DejaVu Sans Mono',consolas,'Courier New',monospace\"><span style=\"color: #7fbfbf; text-decoration-color: #7fbfbf\">[22:14:36] </span>No transformer applied                                                                     <a href=\"file:///usr/local/lib/python3.11/dist-packages/aperturedb/cli/ingest.py\" target=\"_blank\"><span style=\"color: #7f7f7f; text-decoration-color: #7f7f7f\">ingest.py</span></a><span style=\"color: #7f7f7f; text-decoration-color: #7f7f7f\">:</span><a href=\"file:///usr/local/lib/python3.11/dist-packages/aperturedb/cli/ingest.py#213\" target=\"_blank\"><span style=\"color: #7f7f7f; text-decoration-color: #7f7f7f\">213</span></a>\n",
              "</pre>\n"
            ]
          },
          "metadata": {}
        },
        {
          "output_type": "display_data",
          "data": {
            "text/plain": [
              "\u001b[2;36m[22:14:37]\u001b[0m\u001b[2;36m \u001b[0m\u001b[1m<\u001b[0m\u001b[1;95maperturedb.Connector.Connector\u001b[0m\u001b[39m object at \u001b[0m\u001b[1;36m0x7f792a896290\u001b[0m\u001b[1m>\u001b[0m                                  \u001b]8;id=690448;file:///usr/local/lib/python3.11/dist-packages/aperturedb/cli/ingest.py\u001b\\\u001b[2mingest.py\u001b[0m\u001b]8;;\u001b\\\u001b[2m:\u001b[0m\u001b]8;id=405208;file:///usr/local/lib/python3.11/dist-packages/aperturedb/cli/ingest.py#215\u001b\\\u001b[2m215\u001b[0m\u001b]8;;\u001b\\\n"
            ],
            "text/html": [
              "<pre style=\"white-space:pre;overflow-x:auto;line-height:normal;font-family:Menlo,'DejaVu Sans Mono',consolas,'Courier New',monospace\"><span style=\"color: #7fbfbf; text-decoration-color: #7fbfbf\">[22:14:37] </span><span style=\"font-weight: bold\">&lt;</span><span style=\"color: #ff00ff; text-decoration-color: #ff00ff; font-weight: bold\">aperturedb.Connector.Connector</span><span style=\"color: #000000; text-decoration-color: #000000\"> object at </span><span style=\"color: #008080; text-decoration-color: #008080; font-weight: bold\">0x7f792a896290</span><span style=\"font-weight: bold\">&gt;</span>                                  <a href=\"file:///usr/local/lib/python3.11/dist-packages/aperturedb/cli/ingest.py\" target=\"_blank\"><span style=\"color: #7f7f7f; text-decoration-color: #7f7f7f\">ingest.py</span></a><span style=\"color: #7f7f7f; text-decoration-color: #7f7f7f\">:</span><a href=\"file:///usr/local/lib/python3.11/dist-packages/aperturedb/cli/ingest.py#215\" target=\"_blank\"><span style=\"color: #7f7f7f; text-decoration-color: #7f7f7f\">215</span></a>\n",
              "</pre>\n"
            ]
          },
          "metadata": {}
        },
        {
          "output_type": "stream",
          "name": "stdout",
          "text": [
            "sample_count 6\n"
          ]
        },
        {
          "output_type": "stream",
          "name": "stderr",
          "text": [
            "WARNING:aperturedb.CommonLibrary:Partial errors:\r\n",
            "[{\"FindImage\": {\"_ref\": 1, \"unique\": true, \"constraints\": {\"id\": [\"==\", \"lt-001\"]}, \"blobs\": false}}, {\"FindEntity\": {\"_ref\": 2, \"unique\": true, \"constraints\": {\"Name\": [\"==\", \"lighting\"]}, \"with_class\": \"Category\"}}, {\"AddConnection\": {\"class\": \"HasCategory\", \"src\": 1, \"dst\": 2, \"properties\": {\"connection_id\": \"lt-001_lighting\"}, \"if_not_found\": {\"connection_id\": [\"==\", \"lt-001_lighting\"]}}}]\r\n",
            "[{\"info\": \"JSON Command 1: expecting 1 but got 0\", \"status\": 3}]\n"
          ]
        },
        {
          "output_type": "stream",
          "name": "stdout",
          "text": [
            "\rProgress: 16.67% - ETA(s): 0.00"
          ]
        },
        {
          "output_type": "stream",
          "name": "stderr",
          "text": [
            "WARNING:aperturedb.CommonLibrary:Partial errors:\r\n",
            "[{\"FindImage\": {\"_ref\": 1, \"unique\": true, \"constraints\": {\"id\": [\"==\", \"lt-002\"]}, \"blobs\": false}}, {\"FindEntity\": {\"_ref\": 2, \"unique\": true, \"constraints\": {\"Name\": [\"==\", \"lighting\"]}, \"with_class\": \"Category\"}}, {\"AddConnection\": {\"class\": \"HasCategory\", \"src\": 1, \"dst\": 2, \"properties\": {\"connection_id\": \"lt-002_lighting\"}, \"if_not_found\": {\"connection_id\": [\"==\", \"lt-002_lighting\"]}}}]\r\n",
            "[{\"info\": \"JSON Command 1: expecting 1 but got 0\", \"status\": 3}]\n"
          ]
        },
        {
          "output_type": "stream",
          "name": "stdout",
          "text": [
            "\rProgress: 33.33% - ETA(s): 0.28"
          ]
        },
        {
          "output_type": "stream",
          "name": "stderr",
          "text": [
            "WARNING:aperturedb.CommonLibrary:Partial errors:\r\n",
            "[{\"FindImage\": {\"_ref\": 1, \"unique\": true, \"constraints\": {\"id\": [\"==\", \"art-001\"]}, \"blobs\": false}}, {\"FindEntity\": {\"_ref\": 2, \"unique\": true, \"constraints\": {\"Name\": [\"==\", \"wall_decor\"]}, \"with_class\": \"Category\"}}, {\"AddConnection\": {\"class\": \"HasCategory\", \"src\": 1, \"dst\": 2, \"properties\": {\"connection_id\": \"art-001_wall_decor\"}, \"if_not_found\": {\"connection_id\": [\"==\", \"art-001_wall_decor\"]}}}]\r\n",
            "[{\"info\": \"JSON Command 1: expecting 1 but got 0\", \"status\": 3}]\n"
          ]
        },
        {
          "output_type": "stream",
          "name": "stdout",
          "text": [
            "\rProgress: 50.00% - ETA(s): 0.28"
          ]
        },
        {
          "output_type": "stream",
          "name": "stderr",
          "text": [
            "WARNING:aperturedb.CommonLibrary:Partial errors:\r\n",
            "[{\"FindImage\": {\"_ref\": 1, \"unique\": true, \"constraints\": {\"id\": [\"==\", \"st-001\"]}, \"blobs\": false}}, {\"FindEntity\": {\"_ref\": 2, \"unique\": true, \"constraints\": {\"Name\": [\"==\", \"storage\"]}, \"with_class\": \"Category\"}}, {\"AddConnection\": {\"class\": \"HasCategory\", \"src\": 1, \"dst\": 2, \"properties\": {\"connection_id\": \"st-001_storage\"}, \"if_not_found\": {\"connection_id\": [\"==\", \"st-001_storage\"]}}}]\r\n",
            "[{\"info\": \"JSON Command 1: expecting 1 but got 0\", \"status\": 3}]\n"
          ]
        },
        {
          "output_type": "stream",
          "name": "stdout",
          "text": [
            "\rProgress: 66.67% - ETA(s): 0.28"
          ]
        },
        {
          "output_type": "stream",
          "name": "stderr",
          "text": [
            "WARNING:aperturedb.CommonLibrary:Partial errors:\r\n",
            "[{\"FindImage\": {\"_ref\": 1, \"unique\": true, \"constraints\": {\"id\": [\"==\", \"ch-001\"]}, \"blobs\": false}}, {\"FindEntity\": {\"_ref\": 2, \"unique\": true, \"constraints\": {\"Name\": [\"==\", \"seating\"]}, \"with_class\": \"Category\"}}, {\"AddConnection\": {\"class\": \"HasCategory\", \"src\": 1, \"dst\": 2, \"properties\": {\"connection_id\": \"ch-001_seating\"}, \"if_not_found\": {\"connection_id\": [\"==\", \"ch-001_seating\"]}}}]\r\n",
            "[{\"info\": \"JSON Command 1: expecting 1 but got 0\", \"status\": 3}]\n"
          ]
        },
        {
          "output_type": "stream",
          "name": "stdout",
          "text": [
            "\rProgress: 83.33% - ETA(s): 0.28"
          ]
        },
        {
          "output_type": "stream",
          "name": "stderr",
          "text": [
            "WARNING:aperturedb.CommonLibrary:Partial errors:\r\n",
            "[{\"FindImage\": {\"_ref\": 1, \"unique\": true, \"constraints\": {\"id\": [\"==\", \"art-002\"]}, \"blobs\": false}}, {\"FindEntity\": {\"_ref\": 2, \"unique\": true, \"constraints\": {\"Name\": [\"==\", \"wall_decor\"]}, \"with_class\": \"Category\"}}, {\"AddConnection\": {\"class\": \"HasCategory\", \"src\": 1, \"dst\": 2, \"properties\": {\"connection_id\": \"art-002_wall_decor\"}, \"if_not_found\": {\"connection_id\": [\"==\", \"art-002_wall_decor\"]}}}]\r\n",
            "[{\"info\": \"JSON Command 1: expecting 1 but got 0\", \"status\": 3}]\n"
          ]
        },
        {
          "output_type": "stream",
          "name": "stdout",
          "text": [
            "\rProgress: 100.00% - ETA(s): 0.28\n",
            "============ ApertureDB Loader Stats ============\n",
            "Total time (s): 1.5434303283691406\n",
            "Total queries executed: 6\n",
            "All queries failed!\n",
            "=================================================\n"
          ]
        }
      ]
    },
    {
      "cell_type": "code",
      "source": [
        "utils.summary()"
      ],
      "metadata": {
        "colab": {
          "base_uri": "https://localhost:8080/"
        },
        "id": "7hsPNKhfuGrt",
        "outputId": "f533604d-6cea-4299-b483-3b8b6e6335e8"
      },
      "execution_count": 6,
      "outputs": [
        {
          "output_type": "stream",
          "name": "stdout",
          "text": [
            "================== Summary ==================\n",
            "Database: chat-n-shop-be9pkrk7.farm0000.cloud.aperturedata.io\n",
            "Version: 0.18.8\n",
            "Status:  0\n",
            "Info:    OK\n",
            "------------------ Entities -----------------\n",
            "Total entities types:    1\n",
            "Furniture           \n",
            "  Total elements: 6\n",
            "I   String   | Name         |         6 (100%)\n",
            "    String   | category     |         6 (100%)\n",
            "    String   | description  |         6 (100%)\n",
            "    String   | image_url    |         6 (100%)\n",
            "    Number   | price        |         6 (100%)\n",
            "---------------- Connections ----------------\n",
            "Total connections types: 0\n",
            "------------------ Totals -------------------\n",
            "Total nodes: 6\n",
            "Total edges: 0\n",
            "=============================================\n"
          ]
        }
      ]
    },
    {
      "cell_type": "code",
      "source": [],
      "metadata": {
        "id": "3imPpBTMuNHi"
      },
      "execution_count": null,
      "outputs": []
    }
  ]
}